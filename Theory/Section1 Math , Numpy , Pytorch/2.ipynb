{
 "cells": [
  {
   "cell_type": "code",
   "execution_count": 18,
   "id": "3b9ab8af",
   "metadata": {},
   "outputs": [],
   "source": [
    "import numpy as np\n",
    "import torch\n",
    "import torch.nn as nn\n",
    "import matplotlib.pyplot as plt"
   ]
  },
  {
   "cell_type": "code",
   "execution_count": 19,
   "id": "462cce4d",
   "metadata": {},
   "outputs": [],
   "source": []
  },
  {
   "cell_type": "markdown",
   "id": "d1a5af7b",
   "metadata": {},
   "source": [
    "## 4. Logarithmic functions"
   ]
  },
  {
   "cell_type": "code",
   "execution_count": null,
   "id": "177013a3",
   "metadata": {},
   "outputs": [],
   "source": []
  },
  {
   "cell_type": "code",
   "execution_count": 20,
   "id": "3d4b069b",
   "metadata": {},
   "outputs": [],
   "source": [
    "x = np.linspace(start = 0.001 , stop = 1 , num = 100)"
   ]
  },
  {
   "cell_type": "code",
   "execution_count": 21,
   "id": "e1997827",
   "metadata": {},
   "outputs": [],
   "source": [
    "# Computing natural log\n",
    "\n",
    "log_e = np.log(x)\n",
    "log_2 = np.log2(x)\n",
    "log_10 = np.log10(x)"
   ]
  },
  {
   "cell_type": "code",
   "execution_count": null,
   "id": "4d76d66e",
   "metadata": {},
   "outputs": [],
   "source": []
  },
  {
   "cell_type": "code",
   "execution_count": 22,
   "id": "df33d54d",
   "metadata": {},
   "outputs": [
    {
     "data": {
      "image/png": "[encoded data removed]",
      "text/plain": [
       "<Figure size 600x300 with 1 Axes>"
      ]
     },
     "metadata": {},
     "output_type": "display_data"
    }
   ],
   "source": [
    "plt.figure(figsize = (4,2) ,dpi = 150)\n",
    "\n",
    "plt.plot(x, log_e ,'ro', markersize  = 2 , label = \"natural log : ln\")\n",
    "plt.plot(x , log_2 , 'b*' ,markersize = 2 ,label = \"log base 2\")\n",
    "\n",
    "plt.plot(x ,log_10 ,'ys' ,markersize = 2 , label = \"log base 10\")\n",
    "\n",
    "plt.legend()\n",
    "plt.show()"
   ]
  },
  {
   "cell_type": "code",
   "execution_count": null,
   "id": "e99d516e",
   "metadata": {},
   "outputs": [],
   "source": []
  },
  {
   "cell_type": "markdown",
   "id": "cbd731ea",
   "metadata": {},
   "source": [
    "## 5. Entropy"
   ]
  },
  {
   "cell_type": "markdown",
   "id": "197e7c0b",
   "metadata": {},
   "source": [
    "### Using Numpy"
   ]
  },
  {
   "cell_type": "code",
   "execution_count": null,
   "id": "5a8a0bed",
   "metadata": {},
   "outputs": [],
   "source": []
  },
  {
   "cell_type": "markdown",
   "id": "cefa1641",
   "metadata": {},
   "source": [
    "#### Binary entropy"
   ]
  },
  {
   "cell_type": "code",
   "execution_count": 6,
   "id": "60d8599b",
   "metadata": {},
   "outputs": [
    {
     "name": "stdout",
     "output_type": "stream",
     "text": [
      "Entropy :  0.56\n"
     ]
    }
   ],
   "source": [
    "# Prob of event occuring\n",
    "p = 0.25\n",
    "\n",
    "# prob of event not occuring\n",
    "q = 1-p\n",
    "\n",
    "# Entropy formula : Binary entropy formula (N =2)\n",
    "H = -(p*np.log(p) + q*np.log(q))\n",
    "\n",
    "print(\"Entropy : \",np.round(H,2))"
   ]
  },
  {
   "cell_type": "code",
   "execution_count": null,
   "id": "abbd8945",
   "metadata": {},
   "outputs": [],
   "source": []
  },
  {
   "cell_type": "markdown",
   "id": "c26d4456",
   "metadata": {},
   "source": [
    "#### Cross- Entropy"
   ]
  },
  {
   "cell_type": "code",
   "execution_count": 7,
   "id": "b740958e",
   "metadata": {},
   "outputs": [
    {
     "name": "stdout",
     "output_type": "stream",
     "text": [
      "Cross- Entropy :  1.39\n"
     ]
    }
   ],
   "source": [
    "# Binary class : for an example :- present or not present \n",
    "\n",
    "# class label : sum must be equal to 1\n",
    "p = [1,0]     \n",
    "\n",
    "# predicted prob by model : sum must be equal to 1\n",
    "q = [0.25,0.75]  \n",
    "\n",
    "H = 0 \n",
    "\n",
    "for i in range(len(p)):\n",
    "    \n",
    "    H += -(p[i]*np.log(q[i]))\n",
    "\n",
    "print(\"Cross- Entropy : \",np.round(H,2))"
   ]
  },
  {
   "cell_type": "code",
   "execution_count": null,
   "id": "c3326f4d",
   "metadata": {},
   "outputs": [],
   "source": []
  },
  {
   "cell_type": "markdown",
   "id": "e4f1e9ad",
   "metadata": {},
   "source": [
    "### Using Pytorch"
   ]
  },
  {
   "cell_type": "code",
   "execution_count": 7,
   "id": "8ebecd3a",
   "metadata": {},
   "outputs": [],
   "source": [
    "import torch.nn.functional as F"
   ]
  },
  {
   "cell_type": "code",
   "execution_count": null,
   "id": "5439b2f7",
   "metadata": {},
   "outputs": [],
   "source": []
  },
  {
   "cell_type": "code",
   "execution_count": 9,
   "id": "7a17a0b7",
   "metadata": {},
   "outputs": [
    {
     "name": "stdout",
     "output_type": "stream",
     "text": [
      "Binary cross entropy :  tensor(1.3863)\n"
     ]
    }
   ],
   "source": [
    "# Input must be tensor\n",
    "\n",
    "p_tensor = torch.tensor(p,dtype = torch.float)\n",
    "\n",
    "# Predicted\n",
    "q_tensor = torch.tensor(q ,dtype = torch.float)\n",
    "\n",
    "bcs = F.binary_cross_entropy(q_tensor,p_tensor)\n",
    "\n",
    "print(\"Binary cross entropy : \",bcs)"
   ]
  },
  {
   "cell_type": "code",
   "execution_count": null,
   "id": "ec0a8e56",
   "metadata": {},
   "outputs": [],
   "source": []
  },
  {
   "cell_type": "markdown",
   "id": "96b1e683",
   "metadata": {},
   "source": [
    "## 6.Max and Min function"
   ]
  },
  {
   "cell_type": "markdown",
   "id": "8de627a8",
   "metadata": {},
   "source": [
    "#### Example 1 : vector "
   ]
  },
  {
   "cell_type": "markdown",
   "id": "7e1e018b",
   "metadata": {},
   "source": [
    "### using numpy"
   ]
  },
  {
   "cell_type": "code",
   "execution_count": null,
   "id": "e1d1fa46",
   "metadata": {},
   "outputs": [],
   "source": []
  },
  {
   "cell_type": "code",
   "execution_count": 10,
   "id": "1032ce15",
   "metadata": {},
   "outputs": [
    {
     "name": "stdout",
     "output_type": "stream",
     "text": [
      "Vector : [ 1 40  2 -3]\n",
      "Minimum value : -3 \n",
      "Maximum value : 40\n"
     ]
    }
   ],
   "source": [
    "# Create a vector\n",
    "v = np.array([1,40,2,-3])\n",
    "\n",
    "# find max and min values\n",
    "minval = np.min(v)\n",
    "maxval = np.max(v)\n",
    "\n",
    "print(f\"Vector : {v}\")\n",
    "print(f\"Minimum value : {minval} \\nMaximum value : {maxval}\")"
   ]
  },
  {
   "cell_type": "code",
   "execution_count": null,
   "id": "845216fc",
   "metadata": {},
   "outputs": [],
   "source": []
  },
  {
   "cell_type": "markdown",
   "id": "fa12c611",
   "metadata": {},
   "source": [
    "### Using Pytorch"
   ]
  },
  {
   "cell_type": "code",
   "execution_count": 11,
   "id": "eded03a7",
   "metadata": {},
   "outputs": [
    {
     "name": "stdout",
     "output_type": "stream",
     "text": [
      "Tensor : tensor([ 1, 40,  2, -3])\n",
      "Minimum value : -3 \n",
      "Maximum value : 40\n"
     ]
    }
   ],
   "source": [
    "# Create a tensor\n",
    "t = torch.tensor([1,40,2,-3])\n",
    "\n",
    "# Find min and max\n",
    "minval2 = torch.min(t)\n",
    "maxval2 = torch.max(t)\n",
    "\n",
    "print(f\"Tensor : {t}\")\n",
    "print(f\"Minimum value : {minval2} \\nMaximum value : {maxval2}\")"
   ]
  },
  {
   "cell_type": "code",
   "execution_count": null,
   "id": "6f91eb1d",
   "metadata": {},
   "outputs": [],
   "source": []
  },
  {
   "cell_type": "markdown",
   "id": "b96f655b",
   "metadata": {},
   "source": [
    "#### Example 2 : matrix "
   ]
  },
  {
   "cell_type": "code",
   "execution_count": null,
   "id": "ba492a27",
   "metadata": {},
   "outputs": [],
   "source": []
  },
  {
   "cell_type": "markdown",
   "id": "a45c9f16",
   "metadata": {},
   "source": [
    "### using numpy"
   ]
  },
  {
   "cell_type": "code",
   "execution_count": 12,
   "id": "28e919a7",
   "metadata": {},
   "outputs": [
    {
     "name": "stdout",
     "output_type": "stream",
     "text": [
      "Matrix : \n",
      "[[ 0  1 10]\n",
      " [20  8  5]]\n",
      "Minimum value of entire matrix : 0\n",
      "Minimum value along each column : [0 1 5]\n",
      "Minimum value along each row : [0 5]\n"
     ]
    }
   ],
   "source": [
    "# Create a matrix\n",
    "m = np.array([[0,1,10],\n",
    "              [20,8,5]])\n",
    "\n",
    "# find min values\n",
    "m_min = np.min(m)             # min of entire matrix\n",
    "r_min = np.min(m ,axis = 0)   # along each column\n",
    "c_min = np.min(m , axis = 1)  # along each rows\n",
    "\n",
    "print(f\"Matrix : \\n{m}\")\n",
    "print(f\"Minimum value of entire matrix : {m_min}\")\n",
    "print(f\"Minimum value along each column : {r_min}\")    \n",
    "print(f\"Minimum value along each row : {c_min}\")"
   ]
  },
  {
   "cell_type": "code",
   "execution_count": null,
   "id": "1534a34a",
   "metadata": {},
   "outputs": [],
   "source": []
  },
  {
   "cell_type": "markdown",
   "id": "59d2f526",
   "metadata": {},
   "source": [
    "### using torch"
   ]
  },
  {
   "cell_type": "code",
   "execution_count": 16,
   "id": "69fbdf88",
   "metadata": {},
   "outputs": [
    {
     "name": "stdout",
     "output_type": "stream",
     "text": [
      "tensor : \n",
      "tensor([[ 0,  1, 10],\n",
      "        [20,  8,  5]])\n",
      "\n",
      "Minimum value of entire matrix : 0\n",
      "\n",
      "Minimum value along each column :\n",
      " torch.return_types.min(\n",
      "values=tensor([0, 1, 5]),\n",
      "indices=tensor([0, 0, 1]))\n",
      "\n",
      "Minimum value along each row :\n",
      " torch.return_types.min(\n",
      "values=tensor([0, 5]),\n",
      "indices=tensor([0, 2]))\n",
      "\n",
      "Minimum values along each column :  tensor([0, 1, 5])\n"
     ]
    }
   ],
   "source": [
    "# Create a tensor\n",
    "m = torch.tensor([[0,1,10],\n",
    "                 [20,8,5]])\n",
    "\n",
    "# find min values\n",
    "m_min2 = torch.min(m)             # min of entire matrix\n",
    "c_min2 = torch.min(m ,axis = 0)   # along each column\n",
    "r_min2 = torch.min(m , axis = 1)  # along each rows\n",
    "\n",
    "print(f\"tensor : \\n{m}\")\n",
    "print()\n",
    "\n",
    "print(f\"Minimum value of entire matrix : {m_min2}\")\n",
    "print()\n",
    "\n",
    "print(f\"Minimum value along each column :\\n {c_min2}\")\n",
    "print()\n",
    "\n",
    "print(f\"Minimum value along each row :\\n {r_min2}\")\n",
    "print()\n",
    "\n",
    "# accessing the value attribute\n",
    "print(\"Minimum values along each column : \",c_min2.values)"
   ]
  },
  {
   "cell_type": "code",
   "execution_count": null,
   "id": "8d296f22",
   "metadata": {},
   "outputs": [],
   "source": []
  },
  {
   "cell_type": "markdown",
   "id": "3f2cbcb1",
   "metadata": {},
   "source": [
    "## 7. argmin and argmax"
   ]
  },
  {
   "cell_type": "code",
   "execution_count": null,
   "id": "fe976bba",
   "metadata": {},
   "outputs": [],
   "source": []
  },
  {
   "cell_type": "markdown",
   "id": "06225ff7",
   "metadata": {},
   "source": [
    "#### Example 1 : vector or 1D tensor"
   ]
  },
  {
   "cell_type": "markdown",
   "id": "31bc3165",
   "metadata": {},
   "source": [
    "### Using numpy"
   ]
  },
  {
   "cell_type": "code",
   "execution_count": 14,
   "id": "e3a848c5",
   "metadata": {},
   "outputs": [
    {
     "name": "stdout",
     "output_type": "stream",
     "text": [
      "Vector : [ 1 40  2 -3]\n",
      "Minimum value is at index 3\n",
      "Maximum value is at index 1\n"
     ]
    }
   ],
   "source": [
    "# Create a vector\n",
    "v = np.array([1,40,2,-3])\n",
    "\n",
    "minidx = np.argmin(v)\n",
    "maxidx = np.argmax(v)\n",
    "\n",
    "print(f\"Vector : {v}\")\n",
    "print(f\"Minimum value is at index {minidx}\\nMaximum value is at index {maxidx}\")"
   ]
  },
  {
   "cell_type": "code",
   "execution_count": null,
   "id": "4a726394",
   "metadata": {},
   "outputs": [],
   "source": []
  },
  {
   "cell_type": "markdown",
   "id": "52a38d77",
   "metadata": {},
   "source": [
    "### using torch"
   ]
  },
  {
   "cell_type": "code",
   "execution_count": 15,
   "id": "84c67c63",
   "metadata": {},
   "outputs": [
    {
     "name": "stdout",
     "output_type": "stream",
     "text": [
      "Tensor : tensor([ 1, 40,  2, -3])\n",
      "Minimum value is at index 3\n",
      "Maximum value is at index 1\n"
     ]
    }
   ],
   "source": [
    "# Create a tensor\n",
    "t = torch.tensor([1,40,2,-3])\n",
    "\n",
    "# Find argmin and argmax\n",
    "minidx2 = torch.argmin(t)\n",
    "maxidx2= torch.argmax(t)\n",
    "\n",
    "print(f\"Tensor : {t}\")\n",
    "print(f\"Minimum value is at index {minidx2}\\nMaximum value is at index {maxidx2}\")"
   ]
  },
  {
   "cell_type": "code",
   "execution_count": null,
   "id": "b3441394",
   "metadata": {},
   "outputs": [],
   "source": []
  },
  {
   "cell_type": "markdown",
   "id": "51f45122",
   "metadata": {},
   "source": [
    "#### Example2 : matrix or 2D tensor"
   ]
  },
  {
   "cell_type": "markdown",
   "id": "617813d7",
   "metadata": {},
   "source": [
    "### using numpy"
   ]
  },
  {
   "cell_type": "code",
   "execution_count": 16,
   "id": "9650af1e",
   "metadata": {},
   "outputs": [
    {
     "name": "stdout",
     "output_type": "stream",
     "text": [
      "Matrix : \n",
      "[[ 0  1 10]\n",
      " [20  8  5]]\n",
      "\n",
      "Index of Minimum value of entire matrix is at : 0\n",
      "Index of Minimum value along each column are at: [0 0 1]\n",
      "Index of Minimum value along each row are at : [0 2]\n"
     ]
    }
   ],
   "source": [
    "# Create a matrix\n",
    "m = np.array([[0,1,10],\n",
    "              [20,8,5]])\n",
    "\n",
    "# find argmin values\n",
    "m_argmin = np.argmin(m)             # min of entire matrix\n",
    "r_argmin = np.argmin(m ,axis = 0)   # along each column\n",
    "c_argmin = np.argmin(m , axis = 1)  # along each rows\n",
    "\n",
    "print(f\"Matrix : \\n{m}\")\n",
    "print()\n",
    "\n",
    "print(f\"Index of Minimum value of entire matrix is at : {m_argmin}\")\n",
    "print(f\"Index of Minimum value along each column are at: {r_argmin}\")    \n",
    "print(f\"Index of Minimum value along each row are at : {c_argmin}\")"
   ]
  },
  {
   "cell_type": "code",
   "execution_count": null,
   "id": "e0e2fe79",
   "metadata": {},
   "outputs": [],
   "source": []
  },
  {
   "cell_type": "markdown",
   "id": "4b9f494d",
   "metadata": {},
   "source": [
    "### Using torch"
   ]
  },
  {
   "cell_type": "code",
   "execution_count": 17,
   "id": "54d81cfd",
   "metadata": {},
   "outputs": [
    {
     "name": "stdout",
     "output_type": "stream",
     "text": [
      "Tensor : \n",
      "tensor([[ 0,  1, 10],\n",
      "        [20,  8,  5]])\n",
      "\n",
      "Index of Minimum value of entire Tensor is at : 0\n",
      "Index of Minimum value along each column are at: tensor([0, 0, 1])\n",
      "Index of Minimum value along each row are at : tensor([0, 2])\n"
     ]
    }
   ],
   "source": [
    "# Create a tensor\n",
    "t2 = torch.tensor([[0,1,10],\n",
    "                  [20,8,5]])\n",
    "\n",
    "# find argmin values : \n",
    "\n",
    "# min of entire matrix\n",
    "t_minidx = torch.argmin(t2) \n",
    "\n",
    "# along each column\n",
    "t_c_minidx = torch.argmin(t2 ,axis = 0) \n",
    "\n",
    "# along each rows\n",
    "t_r_minidx = torch.argmin(t2 ,axis = 1)      \n",
    "\n",
    "print(f\"Tensor : \\n{t2}\")\n",
    "print()\n",
    "\n",
    "print(f\"Index of Minimum value of entire Tensor is at : {t_minidx}\")\n",
    "print(f\"Index of Minimum value along each column are at: {t_c_minidx}\")    \n",
    "print(f\"Index of Minimum value along each row are at : {t_r_minidx}\")"
   ]
  },
  {
   "cell_type": "code",
   "execution_count": null,
   "id": "8c44264c",
   "metadata": {},
   "outputs": [],
   "source": []
  },
  {
   "cell_type": "code",
   "execution_count": null,
   "id": "93bd705c",
   "metadata": {},
   "outputs": [],
   "source": []
  },
  {
   "cell_type": "code",
   "execution_count": null,
   "id": "3aca7362",
   "metadata": {},
   "outputs": [],
   "source": []
  }
 ],
 "metadata": {
  "kernelspec": {
   "display_name": "Python 3 (ipykernel)",
   "language": "python",
   "name": "python3"
  },
  "language_info": {
   "codemirror_mode": {
    "name": "ipython",
    "version": 3
   },
   "file_extension": ".py",
   "mimetype": "text/x-python",
   "name": "python",
   "nbconvert_exporter": "python",
   "pygments_lexer": "ipython3",
   "version": "3.10.9"
  }
 },
 "nbformat": 4,
 "nbformat_minor": 5
}
