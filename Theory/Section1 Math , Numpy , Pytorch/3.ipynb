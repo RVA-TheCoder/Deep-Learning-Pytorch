{
 "cells": [
  {
   "cell_type": "code",
   "execution_count": 18,
   "id": "88837b3f",
   "metadata": {},
   "outputs": [],
   "source": [
    "import numpy as np\n",
    "import torch\n",
    "import torch.nn as nn\n",
    "import matplotlib.pyplot as plt"
   ]
  },
  {
   "cell_type": "code",
   "execution_count": 4,
   "id": "d726341e",
   "metadata": {},
   "outputs": [],
   "source": []
  },
  {
   "cell_type": "markdown",
   "id": "c6ff528f",
   "metadata": {},
   "source": [
    "## 8. Mean"
   ]
  },
  {
   "cell_type": "code",
   "execution_count": null,
   "id": "7de3c203",
   "metadata": {},
   "outputs": [],
   "source": []
  },
  {
   "cell_type": "code",
   "execution_count": 19,
   "id": "354614db",
   "metadata": {},
   "outputs": [
    {
     "name": "stdout",
     "output_type": "stream",
     "text": [
      "Direct from function :  3.262\n",
      "Using formula :  3.262\n"
     ]
    }
   ],
   "source": [
    "# Create an array of numbers\n",
    "\n",
    "arr = np.array([1,2,3.33,4.23,5.75])\n",
    "\n",
    "n = len(arr)\n",
    "\n",
    "mean1 = np.mean(arr )\n",
    "mean2 = np.sum(arr)/n\n",
    "\n",
    "print(\"Direct from function : \",round(mean1 , 3 ))\n",
    "print(\"Using formula : \",round(mean2,3 ))"
   ]
  },
  {
   "cell_type": "code",
   "execution_count": null,
   "id": "70176b28",
   "metadata": {},
   "outputs": [],
   "source": []
  },
  {
   "cell_type": "markdown",
   "id": "c1737946",
   "metadata": {},
   "source": [
    "## 9. Variance "
   ]
  },
  {
   "cell_type": "code",
   "execution_count": null,
   "id": "c41c007b",
   "metadata": {},
   "outputs": [],
   "source": []
  },
  {
   "cell_type": "code",
   "execution_count": 20,
   "id": "d572a5cd",
   "metadata": {},
   "outputs": [
    {
     "name": "stdout",
     "output_type": "stream",
     "text": [
      "biased variance :  39.837\n",
      "unbiased variance :  46.476\n"
     ]
    }
   ],
   "source": [
    "# ddof : int, optional\n",
    "\n",
    "# ddof : \"Delta Degrees of Freedom\": the divisor used in the calculation is 'N - ddof', \n",
    "#                                    where 'N' represents the number of elements. \n",
    "\n",
    "# Bydefault ddof` is zero.\n",
    "# ddof = 0 : results in biased variance     \n",
    "\n",
    "arr = [1,2,2,3,5,10,20]\n",
    "n = len(arr)\n",
    "\n",
    "# Biased variance\n",
    "var1 = np.var(arr)\n",
    "\n",
    "# Un-biased variance\n",
    "var2 = np.sum((arr - np.mean(arr))**2 )/ (n-1) \n",
    "\n",
    "print(\"biased variance : \", round(var1,3))\n",
    "print(\"unbiased variance : \", round(var2,3))"
   ]
  },
  {
   "cell_type": "code",
   "execution_count": null,
   "id": "833f1967",
   "metadata": {},
   "outputs": [],
   "source": []
  },
  {
   "cell_type": "code",
   "execution_count": 21,
   "id": "4a0f8594",
   "metadata": {},
   "outputs": [
    {
     "name": "stdout",
     "output_type": "stream",
     "text": [
      "46.476\n"
     ]
    }
   ],
   "source": [
    "# calculating unbiased variance directly\n",
    "\n",
    "var3 = np.var(arr , ddof = 1)\n",
    "\n",
    "print(round(var3,3))"
   ]
  },
  {
   "cell_type": "code",
   "execution_count": null,
   "id": "93a3e37e",
   "metadata": {},
   "outputs": [],
   "source": []
  },
  {
   "cell_type": "markdown",
   "id": "6a11d527",
   "metadata": {},
   "source": [
    "## 10. Random sampling and sampling variabilty"
   ]
  },
  {
   "cell_type": "code",
   "execution_count": null,
   "id": "e6542501",
   "metadata": {},
   "outputs": [],
   "source": []
  },
  {
   "cell_type": "code",
   "execution_count": 22,
   "id": "e4547834",
   "metadata": {},
   "outputs": [],
   "source": [
    "# Create a list of numbers\n",
    "\n",
    "x = [1,2,4,6,5,4,0,-4,5,-2,6,10,-9,1,3,-6]\n",
    "n = len(x)\n",
    "\n",
    "popmean = np.mean(x)"
   ]
  },
  {
   "cell_type": "code",
   "execution_count": null,
   "id": "7cda053d",
   "metadata": {},
   "outputs": [],
   "source": []
  },
  {
   "cell_type": "code",
   "execution_count": 23,
   "id": "c3d1018b",
   "metadata": {},
   "outputs": [
    {
     "name": "stdout",
     "output_type": "stream",
     "text": [
      "Population mean : 1.625\n",
      "sample mean : 2.6\n"
     ]
    }
   ],
   "source": [
    "# Taking a sample from 'x' with replacement\n",
    "\n",
    "sample = np.random.choice(a = x, size=5)\n",
    "sampmean = np.mean(sample)\n",
    "\n",
    "print(f\"Population mean : {popmean}\")\n",
    "print(f\"sample mean : {sampmean}\")"
   ]
  },
  {
   "cell_type": "code",
   "execution_count": null,
   "id": "d0d0e50a",
   "metadata": {},
   "outputs": [],
   "source": []
  },
  {
   "cell_type": "code",
   "execution_count": 24,
   "id": "4d161cc2",
   "metadata": {},
   "outputs": [
    {
     "name": "stdout",
     "output_type": "stream",
     "text": [
      "1.558\n"
     ]
    }
   ],
   "source": [
    "# To reduce the sample variabilty taking many samples\n",
    "nexp = 500\n",
    "\n",
    "samplemean = np.zeros(nexp)\n",
    "\n",
    "for i in range(nexp):\n",
    "    \n",
    "    sample = np.random.choice(x , size = 5)\n",
    "    sampmean = np.mean(sample)\n",
    "    samplemean[i] = sampmean\n",
    "\n",
    "print(np.round(sum(samplemean)/len(samplemean),3))"
   ]
  },
  {
   "cell_type": "code",
   "execution_count": null,
   "id": "2ffdf8a9",
   "metadata": {},
   "outputs": [],
   "source": []
  },
  {
   "cell_type": "code",
   "execution_count": 26,
   "id": "c894c0e7",
   "metadata": {},
   "outputs": [
    {
     "data": {
      "image/png": "[encoded data removed]",
      "text/plain": [
       "<Figure size 520x260 with 1 Axes>"
      ]
     },
     "metadata": {},
     "output_type": "display_data"
    }
   ],
   "source": [
    "plt.figure(figsize = (4,2) , dpi = 130)\n",
    "plt.hist(x = samplemean , bins = 20 , ec = 'black' )\n",
    "\n",
    "plt.show()"
   ]
  },
  {
   "cell_type": "code",
   "execution_count": null,
   "id": "04314532",
   "metadata": {},
   "outputs": [],
   "source": []
  },
  {
   "cell_type": "markdown",
   "id": "0cd6dc30",
   "metadata": {},
   "source": [
    "## 11. Reproducible randomness via seeding"
   ]
  },
  {
   "cell_type": "markdown",
   "id": "5d41e371",
   "metadata": {},
   "source": [
    "### Using numpy"
   ]
  },
  {
   "cell_type": "code",
   "execution_count": 29,
   "id": "ef23aaa1",
   "metadata": {},
   "outputs": [
    {
     "name": "stdout",
     "output_type": "stream",
     "text": [
      "[0.69646919 0.28613933 0.22685145 0.55131477 0.71946897]\n",
      "[ 0.32210607 -0.05151772 -0.20420096  1.97934843]\n"
     ]
    }
   ],
   "source": [
    "# old but still widely used\n",
    "\n",
    "np.random.seed(123)\n",
    "\n",
    "print(np.random.rand(5))\n",
    "print(np.random.randn(4))"
   ]
  },
  {
   "cell_type": "code",
   "execution_count": null,
   "id": "d17d8d86",
   "metadata": {},
   "outputs": [],
   "source": []
  },
  {
   "cell_type": "markdown",
   "id": "d96fa9f4",
   "metadata": {},
   "source": [
    "#### new seed mechanism"
   ]
  },
  {
   "cell_type": "code",
   "execution_count": 15,
   "id": "9cf73c7a",
   "metadata": {},
   "outputs": [
    {
     "name": "stdout",
     "output_type": "stream",
     "text": [
      "[-1.13383833  0.38431919  1.49655378 -0.3553823  -0.78753354]\n",
      "[-0.45943891 -0.05916877 -0.3541735  -0.73552305 -1.18393989]\n",
      "\n",
      "[ 1.96342502  0.27576969  0.4586582   1.00126466 -0.76383531]\n",
      "[ 0.72192766 -0.90546956  1.00187339 -0.52074247  0.30895287]\n",
      "\n",
      "[ 0.07964464  1.07490094 -0.47143752 -0.16617609 -0.41509357]\n"
     ]
    }
   ],
   "source": [
    "# randseed1 and randseed2 should be present in the same block of code as below\n",
    "randseed1 = np.random.RandomState(111)  \n",
    "randseed2 = np.random.RandomState(222)\n",
    "\n",
    "print(randseed1.randn(5))\n",
    "print(randseed1.randn(5))\n",
    "print()\n",
    "print(randseed2.randn(5))\n",
    "print(randseed2.randn(5))\n",
    "print()\n",
    "print(np.random.randn(5))"
   ]
  },
  {
   "cell_type": "code",
   "execution_count": null,
   "id": "2958690b",
   "metadata": {},
   "outputs": [],
   "source": []
  },
  {
   "cell_type": "markdown",
   "id": "841cf71c",
   "metadata": {},
   "source": [
    "### Using pytorch"
   ]
  },
  {
   "cell_type": "code",
   "execution_count": null,
   "id": "863c8b19",
   "metadata": {},
   "outputs": [],
   "source": []
  },
  {
   "cell_type": "code",
   "execution_count": 53,
   "id": "42ae4328",
   "metadata": {},
   "outputs": [
    {
     "data": {
      "text/plain": [
       "tensor([-0.3561, -1.4036,  1.2475,  1.1617,  1.7563])"
      ]
     },
     "execution_count": 53,
     "metadata": {},
     "output_type": "execute_result"
    }
   ],
   "source": [
    "torch.randn(5)"
   ]
  },
  {
   "cell_type": "code",
   "execution_count": null,
   "id": "99b98bf0",
   "metadata": {},
   "outputs": [],
   "source": []
  },
  {
   "cell_type": "code",
   "execution_count": 17,
   "id": "0b64851b",
   "metadata": {},
   "outputs": [
    {
     "name": "stdout",
     "output_type": "stream",
     "text": [
      "tensor([-1.0141, -0.3720, -0.7516, -0.8623, -0.3270])\n",
      "[ 0.72139589 -0.09070902 -1.5550278   1.66761601 -0.43024859]\n"
     ]
    }
   ],
   "source": [
    "torch.manual_seed(14)\n",
    "print(torch.randn(5))\n",
    "\n",
    "# It doesnot affect the numpy random number generator\n",
    "print(np.random.randn(5))"
   ]
  },
  {
   "cell_type": "code",
   "execution_count": null,
   "id": "3ec7facd",
   "metadata": {},
   "outputs": [],
   "source": []
  },
  {
   "cell_type": "markdown",
   "id": "6ef754f0",
   "metadata": {},
   "source": [
    "## 12. t-test"
   ]
  },
  {
   "cell_type": "code",
   "execution_count": null,
   "id": "7e0324f0",
   "metadata": {},
   "outputs": [],
   "source": []
  },
  {
   "cell_type": "code",
   "execution_count": 28,
   "id": "52612de3",
   "metadata": {},
   "outputs": [],
   "source": [
    "import scipy.stats as stats"
   ]
  },
  {
   "cell_type": "code",
   "execution_count": null,
   "id": "e42043fe",
   "metadata": {},
   "outputs": [],
   "source": []
  },
  {
   "cell_type": "code",
   "execution_count": 29,
   "id": "4dc84307",
   "metadata": {},
   "outputs": [],
   "source": [
    "# Parameters \n",
    "n1 = 30   # number of datapoints in sample 1 (from dataset -1)\n",
    "n2 = 40   # number of datapoints in sample 2 (from dataset -2)\n",
    "\n",
    "mu1 = 1    # population mean of dataset 1\n",
    "mu2 = 2    # population mean of dataset 2"
   ]
  },
  {
   "cell_type": "code",
   "execution_count": null,
   "id": "36b5c0da",
   "metadata": {},
   "outputs": [],
   "source": []
  },
  {
   "cell_type": "code",
   "execution_count": 30,
   "id": "708736fe",
   "metadata": {},
   "outputs": [],
   "source": [
    "# Gernerate the data\n",
    "data1 = mu1 + np.random.randn(n1)\n",
    "\n",
    "data2 = mu2 + np.random.randn(n2)"
   ]
  },
  {
   "cell_type": "code",
   "execution_count": null,
   "id": "23af99a9",
   "metadata": {},
   "outputs": [],
   "source": []
  },
  {
   "cell_type": "code",
   "execution_count": 31,
   "id": "9419d723",
   "metadata": {},
   "outputs": [
    {
     "data": {
      "image/png": "[encoded data removed]",
      "text/plain": [
       "<Figure size 520x325 with 1 Axes>"
      ]
     },
     "metadata": {},
     "output_type": "display_data"
    }
   ],
   "source": [
    "# Plotting\n",
    "\n",
    "plt.figure(figsize = (4,2.5) ,dpi = 130)\n",
    "\n",
    "plt.plot(np.zeros(n1) , data1 , 'ro' , markerfacecolor = 'w' , \n",
    "        markersize = 14 ,label = \"Data1\")\n",
    "\n",
    "plt.plot(np.ones(n2) , data2 , 'bs' ,markerfacecolor = 'w' ,\n",
    "         markersize = 14 , label = 'Data2')\n",
    "\n",
    "plt.xlim([-1,2])\n",
    "\n",
    "plt.xticks(ticks=[0,1], labels=['Group 1' , 'Group 2'])\n",
    "plt.legend()\n",
    "plt.show()\n",
    "\n",
    "# there is overlapping of datapoints"
   ]
  },
  {
   "cell_type": "code",
   "execution_count": null,
   "id": "79f98d32",
   "metadata": {},
   "outputs": [],
   "source": []
  },
  {
   "cell_type": "code",
   "execution_count": 32,
   "id": "a803606a",
   "metadata": {},
   "outputs": [
    {
     "data": {
      "image/png": "[encoded data removed]",
      "text/plain": [
       "<Figure size 520x325 with 1 Axes>"
      ]
     },
     "metadata": {},
     "output_type": "display_data"
    }
   ],
   "source": [
    "# Correcting above problem\n",
    "\n",
    "plt.figure(figsize = (4,2.5) ,dpi = 130)\n",
    "\n",
    "plt.plot(0+np.random.randn(n1)/15 , data1 , 'ro' , \n",
    "         markerfacecolor = 'w' , markersize = 14 ,label = \"Data1\")\n",
    "\n",
    "plt.plot(1+np.random.randn(n2)/15 , data2 , 'bs' ,\n",
    "         markerfacecolor = 'w' , markersize = 14 , label = 'Data2')\n",
    "\n",
    "plt.xlim([-1,2])\n",
    "\n",
    "plt.xticks(ticks=[0,1], labels=['Group 1' , 'Group 2'])\n",
    "plt.legend()\n",
    "plt.show()"
   ]
  },
  {
   "cell_type": "code",
   "execution_count": null,
   "id": "535bffab",
   "metadata": {},
   "outputs": [],
   "source": []
  },
  {
   "cell_type": "markdown",
   "id": "f923f0b9",
   "metadata": {},
   "source": [
    "### t-test via stats module of scipy"
   ]
  },
  {
   "cell_type": "code",
   "execution_count": null,
   "id": "1cf7eb92",
   "metadata": {},
   "outputs": [],
   "source": []
  },
  {
   "cell_type": "code",
   "execution_count": 70,
   "id": "d5610276",
   "metadata": {},
   "outputs": [
    {
     "name": "stdout",
     "output_type": "stream",
     "text": [
      "t-value 3.6999651472661435\n",
      "p-value 0.00043334397290418044\n"
     ]
    }
   ],
   "source": [
    "t ,p = stats.ttest_ind(data2,data1)\n",
    "\n",
    "print(\"t-value\",t)\n",
    "print(\"p-value\" , p)  # critical p-value is 0.05  (5% significance level)\n",
    "\n",
    "# we have to reject the null hypothesis that two sample means are equal"
   ]
  },
  {
   "cell_type": "code",
   "execution_count": null,
   "id": "8d2de1e3",
   "metadata": {},
   "outputs": [],
   "source": []
  },
  {
   "cell_type": "code",
   "execution_count": null,
   "id": "bdcf0045",
   "metadata": {},
   "outputs": [],
   "source": []
  }
 ],
 "metadata": {
  "kernelspec": {
   "display_name": "Python 3 (ipykernel)",
   "language": "python",
   "name": "python3"
  },
  "language_info": {
   "codemirror_mode": {
    "name": "ipython",
    "version": 3
   },
   "file_extension": ".py",
   "mimetype": "text/x-python",
   "name": "python",
   "nbconvert_exporter": "python",
   "pygments_lexer": "ipython3",
   "version": "3.10.9"
  }
 },
 "nbformat": 4,
 "nbformat_minor": 5
}
