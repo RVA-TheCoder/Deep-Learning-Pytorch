{
 "cells": [
  {
   "cell_type": "code",
   "execution_count": 1,
   "id": "5b73f3be",
   "metadata": {},
   "outputs": [],
   "source": [
    "import numpy as np\n",
    "import torch"
   ]
  },
  {
   "cell_type": "code",
   "execution_count": null,
   "id": "1401b5fa",
   "metadata": {},
   "outputs": [],
   "source": []
  },
  {
   "cell_type": "markdown",
   "id": "de09b151",
   "metadata": {},
   "source": [
    "## 1. Matrix transpose"
   ]
  },
  {
   "cell_type": "code",
   "execution_count": null,
   "id": "7f6ca38c",
   "metadata": {},
   "outputs": [],
   "source": []
  },
  {
   "cell_type": "markdown",
   "id": "2579d5e6",
   "metadata": {},
   "source": [
    "### using numpy"
   ]
  },
  {
   "cell_type": "code",
   "execution_count": 6,
   "id": "0f99ca86",
   "metadata": {},
   "outputs": [
    {
     "name": "stdout",
     "output_type": "stream",
     "text": [
      "Original Array : \n",
      " [[1 2 3 4]] \n",
      "\n",
      "Transpose arr : \n",
      " [[1]\n",
      " [2]\n",
      " [3]\n",
      " [4]]\n"
     ]
    }
   ],
   "source": [
    "narr = np.array(object = [[1,2,3,4]])\n",
    "print(\"Original Array : \\n\" ,narr,'\\n')\n",
    "\n",
    "print(\"Transpose arr : \\n\",narr.T)"
   ]
  },
  {
   "cell_type": "code",
   "execution_count": 9,
   "id": "e6dc2101",
   "metadata": {},
   "outputs": [
    {
     "name": "stdout",
     "output_type": "stream",
     "text": [
      "<class 'numpy.ndarray'>\n"
     ]
    }
   ],
   "source": [
    "print(type(narr))"
   ]
  },
  {
   "cell_type": "code",
   "execution_count": null,
   "id": "491adce3",
   "metadata": {},
   "outputs": [],
   "source": []
  },
  {
   "cell_type": "markdown",
   "id": "d95daf58",
   "metadata": {},
   "source": [
    "### using pytorch"
   ]
  },
  {
   "cell_type": "code",
   "execution_count": 8,
   "id": "ace44c5a",
   "metadata": {},
   "outputs": [
    {
     "name": "stdout",
     "output_type": "stream",
     "text": [
      "Original tensor : \n",
      " tensor([[1, 2, 3, 4]]) \n",
      "\n",
      "Transposed tensor : \n",
      " tensor([[1],\n",
      "        [2],\n",
      "        [3],\n",
      "        [4]])\n"
     ]
    }
   ],
   "source": [
    "tarr = torch.tensor(data = [[1,2,3,4]])\n",
    "\n",
    "print(\"Original tensor : \\n\",tarr , '\\n')\n",
    "\n",
    "print(\"Transposed tensor : \\n\",tarr.T)"
   ]
  },
  {
   "cell_type": "code",
   "execution_count": null,
   "id": "6dd8d509",
   "metadata": {},
   "outputs": [],
   "source": []
  },
  {
   "cell_type": "code",
   "execution_count": 10,
   "id": "ffe0d706",
   "metadata": {},
   "outputs": [
    {
     "name": "stdout",
     "output_type": "stream",
     "text": [
      "<class 'torch.Tensor'>\n"
     ]
    }
   ],
   "source": [
    "print(type(tarr))"
   ]
  },
  {
   "cell_type": "code",
   "execution_count": null,
   "id": "95e3f260",
   "metadata": {},
   "outputs": [],
   "source": []
  },
  {
   "cell_type": "markdown",
   "id": "7f5cd464",
   "metadata": {},
   "source": [
    "## 2. dot Product"
   ]
  },
  {
   "cell_type": "code",
   "execution_count": null,
   "id": "c33738d9",
   "metadata": {},
   "outputs": [],
   "source": []
  },
  {
   "cell_type": "markdown",
   "id": "90748270",
   "metadata": {},
   "source": [
    "### using numpy"
   ]
  },
  {
   "cell_type": "code",
   "execution_count": 11,
   "id": "dad1363e",
   "metadata": {},
   "outputs": [
    {
     "name": "stdout",
     "output_type": "stream",
     "text": [
      "2 \n",
      "\n"
     ]
    },
    {
     "data": {
      "text/plain": [
       "2"
      ]
     },
     "execution_count": 11,
     "metadata": {},
     "output_type": "execute_result"
    }
   ],
   "source": [
    "# creating two vectors\n",
    "\n",
    "nv1 = np.array([1,2,3,4])\n",
    "nv2 = np.array([0,-1,0,1])\n",
    "\n",
    "\n",
    "print(np.dot(nv1,nv2) , '\\n')\n",
    "\n",
    "# another way\n",
    "np.sum(nv1*nv2)"
   ]
  },
  {
   "cell_type": "code",
   "execution_count": null,
   "id": "23bd93a0",
   "metadata": {},
   "outputs": [],
   "source": []
  },
  {
   "cell_type": "markdown",
   "id": "67bfecc4",
   "metadata": {},
   "source": [
    "### using pytorch"
   ]
  },
  {
   "cell_type": "code",
   "execution_count": 13,
   "id": "aca56c43",
   "metadata": {},
   "outputs": [
    {
     "name": "stdout",
     "output_type": "stream",
     "text": [
      "tensor(2)\n",
      "tensor(2)\n"
     ]
    }
   ],
   "source": [
    "tv1 = torch.tensor([1,2,3,4])\n",
    "tv2 = torch.tensor([0,-1,0,1])\n",
    "\n",
    "print(torch.dot(tv1,tv2))\n",
    "\n",
    "# Another way\n",
    "print(torch.sum(tv1*tv2))"
   ]
  },
  {
   "cell_type": "code",
   "execution_count": null,
   "id": "b2417ed7",
   "metadata": {},
   "outputs": [],
   "source": []
  },
  {
   "cell_type": "markdown",
   "id": "8442fe5a",
   "metadata": {},
   "source": [
    "## 3. Matrix multiplication"
   ]
  },
  {
   "cell_type": "code",
   "execution_count": null,
   "id": "22059146",
   "metadata": {},
   "outputs": [],
   "source": []
  },
  {
   "cell_type": "markdown",
   "id": "0731ff3a",
   "metadata": {},
   "source": [
    "### Using numpy"
   ]
  },
  {
   "cell_type": "code",
   "execution_count": 16,
   "id": "b45ccd0c",
   "metadata": {},
   "outputs": [],
   "source": [
    "# creating some random matrix\n",
    "\n",
    "A = np.random.randn(3,4)\n",
    "B = np.random.randn(4,5)\n",
    "C = np.random.randn(3,7)"
   ]
  },
  {
   "cell_type": "code",
   "execution_count": 17,
   "id": "3e55043a",
   "metadata": {},
   "outputs": [
    {
     "data": {
      "text/plain": [
       "array([[ 1.76483136, -0.69187603,  0.24825665,  1.46197279],\n",
       "       [-0.28734652, -0.09484586,  0.76701352, -1.07908459],\n",
       "       [ 0.55654077,  0.97489832,  1.71732171, -0.15030672]])"
      ]
     },
     "execution_count": 17,
     "metadata": {},
     "output_type": "execute_result"
    }
   ],
   "source": [
    "A"
   ]
  },
  {
   "cell_type": "code",
   "execution_count": null,
   "id": "fe9f388b",
   "metadata": {},
   "outputs": [],
   "source": []
  },
  {
   "cell_type": "code",
   "execution_count": 21,
   "id": "8470bd38",
   "metadata": {},
   "outputs": [
    {
     "name": "stdout",
     "output_type": "stream",
     "text": [
      "AB : \n",
      " [[ 1.56  1.79  0.24  3.46  0.02]\n",
      " [ 0.09  1.26  0.81 -2.61  0.19]\n",
      " [-0.06  1.67  1.08 -3.22 -0.87]]\n"
     ]
    }
   ],
   "source": [
    "# Matrix multiplication\n",
    "\n",
    "print('AB : \\n',np.round(A@B,2) )\n",
    "\n",
    "# Another way\n",
    "# np.matmul(A,B)"
   ]
  },
  {
   "cell_type": "code",
   "execution_count": null,
   "id": "b442e21b",
   "metadata": {},
   "outputs": [],
   "source": []
  },
  {
   "cell_type": "code",
   "execution_count": 22,
   "id": "f0fd5b66",
   "metadata": {},
   "outputs": [
    {
     "ename": "ValueError",
     "evalue": "matmul: Input operand 1 has a mismatch in its core dimension 0, with gufunc signature (n?,k),(k,m?)->(n?,m?) (size 3 is different from 4)",
     "output_type": "error",
     "traceback": [
      "\u001b[1;31m---------------------------------------------------------------------------\u001b[0m",
      "\u001b[1;31mValueError\u001b[0m                                Traceback (most recent call last)",
      "Cell \u001b[1;32mIn[22], line 1\u001b[0m\n\u001b[1;32m----> 1\u001b[0m \u001b[38;5;28mprint\u001b[39m(\u001b[38;5;124m'\u001b[39m\u001b[38;5;124mAC : \u001b[39m\u001b[38;5;130;01m\\n\u001b[39;00m\u001b[38;5;124m'\u001b[39m,np\u001b[38;5;241m.\u001b[39mround(\u001b[43mA\u001b[49m\u001b[38;5;129;43m@C\u001b[39;49m,\u001b[38;5;241m2\u001b[39m) )\n",
      "\u001b[1;31mValueError\u001b[0m: matmul: Input operand 1 has a mismatch in its core dimension 0, with gufunc signature (n?,k),(k,m?)->(n?,m?) (size 3 is different from 4)"
     ]
    }
   ],
   "source": [
    "print('AC : \\n',np.round(A@C,2) )"
   ]
  },
  {
   "cell_type": "code",
   "execution_count": null,
   "id": "81d1dc9e",
   "metadata": {},
   "outputs": [],
   "source": []
  },
  {
   "cell_type": "code",
   "execution_count": 23,
   "id": "0219b091",
   "metadata": {},
   "outputs": [
    {
     "ename": "ValueError",
     "evalue": "matmul: Input operand 1 has a mismatch in its core dimension 0, with gufunc signature (n?,k),(k,m?)->(n?,m?) (size 3 is different from 5)",
     "output_type": "error",
     "traceback": [
      "\u001b[1;31m---------------------------------------------------------------------------\u001b[0m",
      "\u001b[1;31mValueError\u001b[0m                                Traceback (most recent call last)",
      "Cell \u001b[1;32mIn[23], line 1\u001b[0m\n\u001b[1;32m----> 1\u001b[0m \u001b[38;5;28mprint\u001b[39m(\u001b[38;5;124m'\u001b[39m\u001b[38;5;124mBC : \u001b[39m\u001b[38;5;130;01m\\n\u001b[39;00m\u001b[38;5;124m'\u001b[39m,np\u001b[38;5;241m.\u001b[39mround(\u001b[43mB\u001b[49m\u001b[38;5;129;43m@C\u001b[39;49m,\u001b[38;5;241m2\u001b[39m) )\n",
      "\u001b[1;31mValueError\u001b[0m: matmul: Input operand 1 has a mismatch in its core dimension 0, with gufunc signature (n?,k),(k,m?)->(n?,m?) (size 3 is different from 5)"
     ]
    }
   ],
   "source": [
    "print('BC : \\n',np.round(B@C,2) )"
   ]
  },
  {
   "cell_type": "code",
   "execution_count": null,
   "id": "9fe77e8b",
   "metadata": {},
   "outputs": [],
   "source": []
  },
  {
   "cell_type": "code",
   "execution_count": 27,
   "id": "0e1691be",
   "metadata": {},
   "outputs": [
    {
     "name": "stdout",
     "output_type": "stream",
     "text": [
      "[c^T][A] : \n",
      " [[-1.4  -0.01 -2.27  0.26]\n",
      " [-0.2  -0.01  1.57 -1.61]\n",
      " [ 0.79  1.91  2.53  0.06]\n",
      " [-0.9   0.76 -0.85  0.16]\n",
      " [ 1.6  -0.73  0.35  1.15]\n",
      " [ 0.63 -2.09 -0.4  -0.3 ]\n",
      " [ 1.84  0.52  2.64  0.31]]\n"
     ]
    }
   ],
   "source": [
    "print('[c^T][A] : \\n',np.round(C.T@A,2) )"
   ]
  },
  {
   "cell_type": "code",
   "execution_count": null,
   "id": "0f03ff9e",
   "metadata": {},
   "outputs": [],
   "source": []
  },
  {
   "cell_type": "markdown",
   "id": "e9ab9e40",
   "metadata": {},
   "source": [
    "### Using Pytorch"
   ]
  },
  {
   "cell_type": "code",
   "execution_count": 2,
   "id": "c8422431",
   "metadata": {},
   "outputs": [],
   "source": [
    "A = torch.randn(3,4)\n",
    "B = torch.randn(4,5)\n",
    "\n",
    "C1 = np.random.randn(4,7)\n",
    "C2 = torch.tensor(C1 , dtype = torch.float)"
   ]
  },
  {
   "cell_type": "code",
   "execution_count": null,
   "id": "01d0956f",
   "metadata": {},
   "outputs": [],
   "source": []
  },
  {
   "cell_type": "code",
   "execution_count": null,
   "id": "fd03d6ca",
   "metadata": {},
   "outputs": [],
   "source": [
    "# Using pytorch\n",
    "\n",
    "torch.matmul(A,B) "
   ]
  },
  {
   "cell_type": "code",
   "execution_count": null,
   "id": "c5193b86",
   "metadata": {},
   "outputs": [],
   "source": []
  },
  {
   "cell_type": "code",
   "execution_count": 4,
   "id": "e3dcafd1",
   "metadata": {},
   "outputs": [
    {
     "name": "stdout",
     "output_type": "stream",
     "text": [
      "tensor([[-1.0000,  3.1100,  2.9900, -3.9100,  2.1500],\n",
      "        [-7.5800,  0.5800,  0.8300, -0.0200,  4.0900],\n",
      "        [ 2.4100,  1.9500,  0.5400, -2.7200, -0.8900]])\n"
     ]
    }
   ],
   "source": [
    "# Multiplying tensors using Numpy\n",
    "\n",
    "print(np.round(A@B ,2))"
   ]
  },
  {
   "cell_type": "code",
   "execution_count": null,
   "id": "41ec5236",
   "metadata": {},
   "outputs": [],
   "source": []
  },
  {
   "cell_type": "code",
   "execution_count": 31,
   "id": "654d663d",
   "metadata": {},
   "outputs": [
    {
     "name": "stdout",
     "output_type": "stream",
     "text": [
      "tensor([[-0.9300, -0.6400,  3.3500,  2.3200, -4.7600, -1.9400,  0.8300],\n",
      "        [ 1.3900,  1.5500, -4.9200, -5.2500,  5.4000,  2.4800, -0.2600],\n",
      "        [-0.9000, -0.6300,  0.8900, -0.5100, -1.0700, -0.6300,  0.1700]],\n",
      "       dtype=torch.float64)\n"
     ]
    }
   ],
   "source": [
    "# Numpy array and pytorch tensor are matrix multiplication compatible\n",
    "\n",
    "print(np.round(A@C1,2))  "
   ]
  },
  {
   "cell_type": "code",
   "execution_count": null,
   "id": "a727df6b",
   "metadata": {},
   "outputs": [],
   "source": []
  },
  {
   "cell_type": "code",
   "execution_count": 32,
   "id": "a798b835",
   "metadata": {},
   "outputs": [
    {
     "name": "stdout",
     "output_type": "stream",
     "text": [
      "tensor([[ 2.,  3., -1.,  0.,  1.,  0., -0.],\n",
      "        [ 2.,  3.,  1.,  2., -1., -1., -0.],\n",
      "        [ 1.,  1., -1., -1.,  2.,  1., -0.],\n",
      "        [-1., -3.,  1.,  1., -0.,  0.,  0.],\n",
      "        [-1., -2.,  1.,  1., -1., -1., -0.]], dtype=torch.float64)\n"
     ]
    }
   ],
   "source": [
    "print(np.round(B.T@C1))"
   ]
  },
  {
   "cell_type": "code",
   "execution_count": null,
   "id": "ae7fa905",
   "metadata": {},
   "outputs": [],
   "source": []
  },
  {
   "cell_type": "markdown",
   "id": "19b7437e",
   "metadata": {},
   "source": [
    "## 4. Softmax Function"
   ]
  },
  {
   "cell_type": "code",
   "execution_count": null,
   "id": "822ab72f",
   "metadata": {},
   "outputs": [],
   "source": []
  },
  {
   "cell_type": "markdown",
   "id": "2ea15180",
   "metadata": {},
   "source": [
    "### Using numpy"
   ]
  },
  {
   "cell_type": "code",
   "execution_count": 20,
   "id": "316cc2ad",
   "metadata": {},
   "outputs": [
    {
     "name": "stdout",
     "output_type": "stream",
     "text": [
      "Z :  [-3 -3  1 -4 -2  4  1 -4 -5 -4  4 -5 -5  4 -2 -1 -5 -5 -1 -4] \n",
      "\n",
      "Softmax :  [2.92102258e-04 2.92102258e-04 1.59482429e-02 1.07458415e-04\n",
      " 7.94016260e-04 3.20329022e-01 1.59482429e-02 1.07458415e-04\n",
      " 3.95317418e-05 1.07458415e-04 3.20329022e-01 3.95317418e-05\n",
      " 3.95317418e-05 3.20329022e-01 7.94016260e-04 2.15835997e-03\n",
      " 3.95317418e-05 3.95317418e-05 2.15835997e-03 1.07458415e-04] \n",
      "\n",
      "Softmax summation :  0.9999999999999997\n"
     ]
    }
   ],
   "source": [
    "np.random.seed(123)\n",
    "\n",
    "z = np.random.randint(low = -5 , high = 5 , size = 20)\n",
    "print(\"Z : \",z ,\"\\n\")\n",
    "\n",
    "exp_zi = np.exp(z)\n",
    "sumexp_zi = np.sum(exp_zi)\n",
    "\n",
    "# softmax function\n",
    "sigma = exp_zi/sumexp_zi\n",
    "\n",
    "print(\"Softmax : \",sigma,\"\\n\")\n",
    "print(\"Softmax summation : \",np.sum(sigma))\n"
   ]
  },
  {
   "cell_type": "code",
   "execution_count": null,
   "id": "801f9746",
   "metadata": {},
   "outputs": [],
   "source": []
  },
  {
   "cell_type": "code",
   "execution_count": 21,
   "id": "5e46a118",
   "metadata": {},
   "outputs": [],
   "source": [
    "import matplotlib.pyplot as plt"
   ]
  },
  {
   "cell_type": "code",
   "execution_count": null,
   "id": "12df7fd9",
   "metadata": {},
   "outputs": [],
   "source": []
  },
  {
   "cell_type": "code",
   "execution_count": 22,
   "id": "c093fea2",
   "metadata": {},
   "outputs": [
    {
     "data": {
      "image/png": "[encoded data removed]",
      "text/plain": [
       "<Figure size 600x375 with 1 Axes>"
      ]
     },
     "metadata": {},
     "output_type": "display_data"
    }
   ],
   "source": [
    "plt.figure(figsize = (4,2.5) , dpi = 150)\n",
    "plt.plot(z ,sigma ,'bo')\n",
    "\n",
    "plt.xlabel(\"Z\")\n",
    "plt.ylabel(\"Softmax Function \")\n",
    "plt.show()"
   ]
  },
  {
   "cell_type": "code",
   "execution_count": null,
   "id": "59f54a82",
   "metadata": {},
   "outputs": [],
   "source": []
  },
  {
   "cell_type": "markdown",
   "id": "bbd4b9a3",
   "metadata": {},
   "source": [
    "### Using pytorch"
   ]
  },
  {
   "cell_type": "code",
   "execution_count": 6,
   "id": "1de809a9",
   "metadata": {},
   "outputs": [],
   "source": [
    "import torch.nn as nn  # neural network"
   ]
  },
  {
   "cell_type": "code",
   "execution_count": null,
   "id": "6346171f",
   "metadata": {
    "collapsed": true
   },
   "outputs": [],
   "source": []
  },
  {
   "cell_type": "code",
   "execution_count": 7,
   "id": "6dea0834",
   "metadata": {
    "scrolled": true
   },
   "outputs": [
    {
     "name": "stdout",
     "output_type": "stream",
     "text": [
      "tensor([-1.,  4., -2., -5., -2.,  4.,  2., -2.,  2., -2., -4.,  1.,  1.,  4.,\n",
      "         3.,  1.,  1.,  3., -1., -2.])\n",
      "tensor([1.5922e-03, 2.3630e-01, 5.8573e-04, 2.9162e-05, 5.8573e-04, 2.3630e-01,\n",
      "        3.1980e-02, 5.8573e-04, 3.1980e-02, 5.8573e-04, 7.9270e-05, 1.1765e-02,\n",
      "        1.1765e-02, 2.3630e-01, 8.6930e-02, 1.1765e-02, 1.1765e-02, 8.6930e-02,\n",
      "        1.5922e-03, 5.8573e-04])\n"
     ]
    }
   ],
   "source": [
    "# Create an instance of Softmax activaion class\n",
    "\n",
    "torch.manual_seed(0)\n",
    "\n",
    "z2 = torch.randint(low = -5 ,high = 5 ,size = (20,) ,dtype  = torch.float)\n",
    "print(z2.float())\n",
    "\n",
    "sm = nn.Softmax(dim = 0)\n",
    "\n",
    "# Argument to 'sm' is tensor, we cannot pass 'python list' or 'numpy array'\n",
    "sigmaT = sm(z2)  \n",
    "\n",
    "print(sigmaT)"
   ]
  },
  {
   "cell_type": "code",
   "execution_count": null,
   "id": "32bb3aba",
   "metadata": {},
   "outputs": [],
   "source": []
  },
  {
   "cell_type": "code",
   "execution_count": 18,
   "id": "9f665dde",
   "metadata": {},
   "outputs": [
    {
     "data": {
      "image/png": "[encoded data removed]",
      "text/plain": [
       "<Figure size 600x375 with 1 Axes>"
      ]
     },
     "metadata": {},
     "output_type": "display_data"
    }
   ],
   "source": [
    "plt.figure(figsize = (4,2.5) , dpi = 150)\n",
    "plt.plot(z2 , sigmaT , \"b*\")\n",
    "plt.xlabel(\"z2\")\n",
    "plt.ylabel(\"Softmax Function \")\n",
    "\n",
    "plt.show()"
   ]
  },
  {
   "cell_type": "code",
   "execution_count": null,
   "id": "b289b5c6",
   "metadata": {},
   "outputs": [],
   "source": []
  },
  {
   "cell_type": "code",
   "execution_count": null,
   "id": "d2aa1514",
   "metadata": {},
   "outputs": [],
   "source": []
  }
 ],
 "metadata": {
  "kernelspec": {
   "display_name": "Python 3 (ipykernel)",
   "language": "python",
   "name": "python3"
  },
  "language_info": {
   "codemirror_mode": {
    "name": "ipython",
    "version": 3
   },
   "file_extension": ".py",
   "mimetype": "text/x-python",
   "name": "python",
   "nbconvert_exporter": "python",
   "pygments_lexer": "ipython3",
   "version": "3.10.9"
  }
 },
 "nbformat": 4,
 "nbformat_minor": 5
}
