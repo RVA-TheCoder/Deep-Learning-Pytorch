{
 "cells": [
  {
   "cell_type": "markdown",
   "id": "9f19a198",
   "metadata": {},
   "source": [
    "## 1. Standard import"
   ]
  },
  {
   "cell_type": "code",
   "execution_count": null,
   "id": "4a84cea8",
   "metadata": {},
   "outputs": [],
   "source": []
  },
  {
   "cell_type": "code",
   "execution_count": 1,
   "id": "e2d3b4e4",
   "metadata": {},
   "outputs": [],
   "source": [
    "import torch\n",
    "import torch.nn as nn\n",
    "import numpy as np"
   ]
  },
  {
   "cell_type": "code",
   "execution_count": null,
   "id": "ca0f821b",
   "metadata": {},
   "outputs": [],
   "source": []
  },
  {
   "cell_type": "markdown",
   "id": "b4251742",
   "metadata": {},
   "source": [
    "## 2. Custom RNN function"
   ]
  },
  {
   "cell_type": "code",
   "execution_count": null,
   "id": "f843c0b0",
   "metadata": {},
   "outputs": [],
   "source": []
  },
  {
   "cell_type": "markdown",
   "id": "8a2dc084",
   "metadata": {},
   "source": [
    "#### Parameters of RNN : \n",
    "\n",
    "- **input_size** :    Number of data-input channel or features.\n",
    "- **hidden_size** :   Number of neurons per hidden layer\n",
    "- **num_layers** :    Number of hidden layers stacked on top of each other.\n",
    "- **nonlinearity** :  Non-Linear activation function\n",
    "- **bias** :          Boolean value, represents whether to include the bias term."
   ]
  },
  {
   "cell_type": "code",
   "execution_count": null,
   "id": "fb8b9277",
   "metadata": {},
   "outputs": [],
   "source": []
  },
  {
   "cell_type": "code",
   "execution_count": 2,
   "id": "e32f9561",
   "metadata": {},
   "outputs": [],
   "source": [
    "def get_RNN_object(InputSize, HiddenSize, NumLayers, Act_Func, Bias_boolean=True ):\n",
    "    \n",
    "    rnn= nn.RNN(input_size=InputSize,\n",
    "                hidden_size=HiddenSize,\n",
    "                num_layers=NumLayers,\n",
    "                nonlinearity=Act_Func,\n",
    "                bias=Bias_boolean\n",
    "               )\n",
    "    \n",
    "    return rnn"
   ]
  },
  {
   "cell_type": "code",
   "execution_count": null,
   "id": "5993d939",
   "metadata": {},
   "outputs": [],
   "source": []
  },
  {
   "cell_type": "code",
   "execution_count": 3,
   "id": "58b57663",
   "metadata": {},
   "outputs": [],
   "source": [
    "InputSize =  9\n",
    "HiddenSize = 16\n",
    "NumLayers = 1\n",
    "Act_Func = 'tanh'\n",
    "\n",
    "rnn = get_RNN_object(InputSize=InputSize,\n",
    "                     HiddenSize=HiddenSize,\n",
    "                     NumLayers=NumLayers,\n",
    "                     Act_Func=Act_Func,\n",
    "                     )"
   ]
  },
  {
   "cell_type": "code",
   "execution_count": 4,
   "id": "56041be5",
   "metadata": {},
   "outputs": [
    {
     "data": {
      "text/plain": [
       "RNN(9, 16)"
      ]
     },
     "execution_count": 4,
     "metadata": {},
     "output_type": "execute_result"
    }
   ],
   "source": [
    "rnn"
   ]
  },
  {
   "cell_type": "code",
   "execution_count": null,
   "id": "3b29a190",
   "metadata": {},
   "outputs": [],
   "source": []
  },
  {
   "cell_type": "markdown",
   "id": "bccafad5",
   "metadata": {},
   "source": [
    "#### Testing with some data"
   ]
  },
  {
   "cell_type": "code",
   "execution_count": null,
   "id": "7a84756b",
   "metadata": {},
   "outputs": [],
   "source": []
  },
  {
   "cell_type": "code",
   "execution_count": 5,
   "id": "252dbe1c",
   "metadata": {},
   "outputs": [],
   "source": [
    "# set data parameters\n",
    "seqlength = 5\n",
    "batchsize = 2\n",
    "\n",
    "# create some data\n",
    "X = torch.rand(seqlength,batchsize,InputSize)\n",
    "\n",
    "# create a hidden state\n",
    "hidden = torch.zeros(NumLayers, batchsize, HiddenSize)"
   ]
  },
  {
   "cell_type": "code",
   "execution_count": null,
   "id": "9133cfd1",
   "metadata": {},
   "outputs": [],
   "source": []
  },
  {
   "cell_type": "code",
   "execution_count": 6,
   "id": "c30c5204",
   "metadata": {
    "scrolled": true
   },
   "outputs": [
    {
     "data": {
      "text/plain": [
       "tensor([[[0.3856, 0.5737, 0.8874, 0.0254, 0.9620, 0.9792, 0.2979, 0.0400,\n",
       "          0.2241],\n",
       "         [0.1422, 0.5874, 0.2770, 0.9340, 0.7371, 0.9755, 0.8080, 0.1163,\n",
       "          0.7380]],\n",
       "\n",
       "        [[0.6212, 0.0827, 0.9882, 0.1072, 0.1239, 0.2108, 0.6987, 0.6395,\n",
       "          0.8871],\n",
       "         [0.3684, 0.5073, 0.1879, 0.9176, 0.2309, 0.9625, 0.9133, 0.8233,\n",
       "          0.1237]],\n",
       "\n",
       "        [[0.6466, 0.7775, 0.0448, 0.5607, 0.2443, 0.2805, 0.5716, 0.8407,\n",
       "          0.5344],\n",
       "         [0.4270, 0.0825, 0.4444, 0.8419, 0.4574, 0.7139, 0.4903, 0.7766,\n",
       "          0.4746]],\n",
       "\n",
       "        [[0.8731, 0.8856, 0.1984, 0.4528, 0.3614, 0.5605, 0.0918, 0.9263,\n",
       "          0.8398],\n",
       "         [0.3132, 0.8152, 0.1837, 0.5278, 0.6020, 0.0938, 0.7795, 0.1980,\n",
       "          0.6627]],\n",
       "\n",
       "        [[0.3883, 0.1212, 0.2019, 0.8511, 0.7220, 0.7198, 0.1012, 0.6645,\n",
       "          0.7219],\n",
       "         [0.5121, 0.9515, 0.8932, 0.0854, 0.4964, 0.4865, 0.2314, 0.3279,\n",
       "          0.2313]]])"
      ]
     },
     "execution_count": 6,
     "metadata": {},
     "output_type": "execute_result"
    }
   ],
   "source": [
    "X"
   ]
  },
  {
   "cell_type": "code",
   "execution_count": 7,
   "id": "974a01c9",
   "metadata": {},
   "outputs": [
    {
     "data": {
      "text/plain": [
       "torch.Size([5, 2, 9])"
      ]
     },
     "execution_count": 7,
     "metadata": {},
     "output_type": "execute_result"
    }
   ],
   "source": [
    "X.shape"
   ]
  },
  {
   "cell_type": "code",
   "execution_count": null,
   "id": "a39009c2",
   "metadata": {},
   "outputs": [],
   "source": []
  },
  {
   "cell_type": "markdown",
   "id": "c5980eae",
   "metadata": {},
   "source": [
    "#### Pytorch Applies a linear transformation to the incoming data: \n",
    "- 𝑦 = xW^𝑇 + 𝑏\n"
   ]
  },
  {
   "cell_type": "code",
   "execution_count": 8,
   "id": "d7550f6d",
   "metadata": {},
   "outputs": [
    {
     "name": "stdout",
     "output_type": "stream",
     "text": [
      " Input shape: [5, 2, 9]\n",
      "Hidden shape: [1, 2, 16]\n",
      "Output shape: [5, 2, 16]\n"
     ]
    }
   ],
   "source": [
    "# run some data through the model and show the output sizes\n",
    "y,h_state = rnn(X,hidden)\n",
    "print(f' Input shape: {list(X.shape)}')\n",
    "print(f'Hidden shape: {list(h_state.shape)}')\n",
    "print(f'Output shape: {list(y.shape)}')"
   ]
  },
  {
   "cell_type": "code",
   "execution_count": 9,
   "id": "937fc6a6",
   "metadata": {
    "scrolled": true
   },
   "outputs": [
    {
     "data": {
      "text/plain": [
       "tensor([[[ 0.0058,  0.3844,  0.2238, -0.0316, -0.2441,  0.1264, -0.4425,\n",
       "          -0.1156, -0.3598, -0.0695, -0.4892, -0.1706, -0.1326, -0.2527,\n",
       "          -0.1947, -0.6057],\n",
       "         [ 0.0401,  0.3692,  0.1720, -0.1388, -0.3756, -0.1568, -0.4135,\n",
       "          -0.3439, -0.4901, -0.1348, -0.5755, -0.3050, -0.3162, -0.1394,\n",
       "          -0.2733, -0.6384]],\n",
       "\n",
       "        [[ 0.1673,  0.1787,  0.1752, -0.4160, -0.3304, -0.1477, -0.4167,\n",
       "           0.0150, -0.6172,  0.0870, -0.1976,  0.3134, -0.5938, -0.3466,\n",
       "          -0.3610, -0.4992],\n",
       "         [ 0.3124,  0.3108,  0.2748, -0.3895, -0.3615, -0.3143, -0.3484,\n",
       "          -0.0815, -0.5925,  0.1745, -0.6962, -0.0602, -0.6516, -0.0069,\n",
       "          -0.3309, -0.6380]],\n",
       "\n",
       "        [[ 0.1907,  0.2264,  0.3088, -0.0021, -0.4549,  0.0406, -0.1843,\n",
       "          -0.1552, -0.6533, -0.2917, -0.5606, -0.1963, -0.7830, -0.0415,\n",
       "          -0.6664, -0.4946],\n",
       "         [ 0.1279,  0.3609,  0.3854, -0.3896, -0.3762, -0.0978, -0.1873,\n",
       "          -0.0287, -0.5300, -0.1523, -0.6075,  0.1009, -0.6091, -0.2497,\n",
       "          -0.4545, -0.6453]],\n",
       "\n",
       "        [[ 0.2426,  0.2004,  0.4364, -0.2989, -0.6805,  0.2384, -0.3965,\n",
       "          -0.0769, -0.7013, -0.1157, -0.4435,  0.2722, -0.6560, -0.0398,\n",
       "          -0.6803, -0.5515],\n",
       "         [ 0.2725,  0.2659,  0.0243, -0.0404, -0.4794,  0.2652, -0.0194,\n",
       "          -0.3675, -0.6498, -0.1352, -0.2872, -0.0858, -0.6932,  0.1194,\n",
       "          -0.5445, -0.5576]],\n",
       "\n",
       "        [[ 0.0132,  0.1074,  0.5089, -0.2959, -0.6169,  0.3441, -0.3325,\n",
       "          -0.0492, -0.6266, -0.1392, -0.5069,  0.2545, -0.6967, -0.0024,\n",
       "          -0.7021, -0.7221],\n",
       "         [ 0.1786,  0.2557,  0.3966, -0.1208, -0.6433,  0.2786, -0.4819,\n",
       "          -0.2066, -0.5733,  0.0038, -0.3000,  0.1362, -0.4960,  0.0024,\n",
       "          -0.3136, -0.5232]]], grad_fn=<StackBackward0>)"
      ]
     },
     "execution_count": 9,
     "metadata": {},
     "output_type": "execute_result"
    }
   ],
   "source": [
    "y"
   ]
  },
  {
   "cell_type": "code",
   "execution_count": null,
   "id": "f9600750",
   "metadata": {},
   "outputs": [],
   "source": []
  },
  {
   "cell_type": "code",
   "execution_count": 10,
   "id": "51bc51b6",
   "metadata": {
    "scrolled": true
   },
   "outputs": [
    {
     "name": "stdout",
     "output_type": "stream",
     "text": [
      "tensor([[[ 0.0132,  0.1074,  0.5089, -0.2959, -0.6169,  0.3441, -0.3325,\n",
      "          -0.0492, -0.6266, -0.1392, -0.5069,  0.2545, -0.6967, -0.0024,\n",
      "          -0.7021, -0.7221],\n",
      "         [ 0.1786,  0.2557,  0.3966, -0.1208, -0.6433,  0.2786, -0.4819,\n",
      "          -0.2066, -0.5733,  0.0038, -0.3000,  0.1362, -0.4960,  0.0024,\n",
      "          -0.3136, -0.5232]]], grad_fn=<StackBackward0>)\n",
      "\n",
      "\n",
      "\n",
      "tensor([[[ 0.0132,  0.1074,  0.5089, -0.2959, -0.6169,  0.3441, -0.3325,\n",
      "          -0.0492, -0.6266, -0.1392, -0.5069,  0.2545, -0.6967, -0.0024,\n",
      "          -0.7021, -0.7221],\n",
      "         [ 0.1786,  0.2557,  0.3966, -0.1208, -0.6433,  0.2786, -0.4819,\n",
      "          -0.2066, -0.5733,  0.0038, -0.3000,  0.1362, -0.4960,  0.0024,\n",
      "          -0.3136, -0.5232]]], grad_fn=<StackBackward0>)\n",
      "\n",
      "\n",
      "\n",
      "tensor([[[0., 0., 0., 0., 0., 0., 0., 0., 0., 0., 0., 0., 0., 0., 0., 0.],\n",
      "         [0., 0., 0., 0., 0., 0., 0., 0., 0., 0., 0., 0., 0., 0., 0., 0.]]],\n",
      "       grad_fn=<SubBackward0>)\n"
     ]
    }
   ],
   "source": [
    "## Default hidden state is all zeros if nothing specified:\n",
    "y,h1 = rnn(X,hidden)\n",
    "print(h1), print('\\n\\n')\n",
    "\n",
    "y,h2 = rnn(X)\n",
    "print(h2), print('\\n\\n')\n",
    "\n",
    "# they're the same! (meaning default=zeros)\n",
    "print(h1-h2)"
   ]
  },
  {
   "cell_type": "code",
   "execution_count": null,
   "id": "31f5e2e1",
   "metadata": {},
   "outputs": [],
   "source": []
  },
  {
   "cell_type": "code",
   "execution_count": 11,
   "id": "4b3c4e56",
   "metadata": {
    "scrolled": true
   },
   "outputs": [
    {
     "name": "stdout",
     "output_type": "stream",
     "text": [
      "('weight_ih_l0', Parameter containing:\n",
      "tensor([[ 0.2417,  0.0965,  0.0229,  0.0664,  0.2416, -0.2049,  0.2306,  0.1260,\n",
      "         -0.0549],\n",
      "        [ 0.1524, -0.0409, -0.0506, -0.0410,  0.0149,  0.0689,  0.0926, -0.1741,\n",
      "         -0.0076],\n",
      "        [ 0.1972, -0.0767,  0.0424,  0.1904,  0.0565,  0.1051, -0.2361,  0.1813,\n",
      "         -0.0630],\n",
      "        [-0.1492,  0.2001, -0.2184, -0.2216,  0.0985, -0.1847,  0.0070,  0.0145,\n",
      "         -0.1212],\n",
      "        [-0.0331, -0.1258,  0.0135, -0.1312, -0.1661,  0.0897,  0.0951, -0.1510,\n",
      "         -0.1920],\n",
      "        [-0.2250,  0.1859,  0.0071, -0.2210,  0.1971, -0.0084, -0.2312, -0.0445,\n",
      "          0.0551],\n",
      "        [ 0.0398, -0.1330, -0.2105, -0.1030,  0.0795, -0.2028,  0.2231, -0.0844,\n",
      "         -0.1520],\n",
      "        [ 0.0266, -0.1274,  0.1901, -0.1059, -0.2120,  0.1853, -0.0590,  0.1891,\n",
      "         -0.1035],\n",
      "        [ 0.1730, -0.1491,  0.0949,  0.1587, -0.0953,  0.0364, -0.1548, -0.2421,\n",
      "         -0.2444],\n",
      "        [ 0.0505, -0.1636,  0.0410, -0.0185, -0.1522,  0.1025,  0.1645, -0.2014,\n",
      "         -0.2182],\n",
      "        [-0.1336, -0.0671,  0.2422, -0.2033, -0.2475, -0.1434,  0.0254, -0.1972,\n",
      "          0.2457],\n",
      "        [ 0.1226, -0.2119,  0.0799, -0.1284, -0.1952,  0.1196, -0.1712, -0.0581,\n",
      "          0.2018],\n",
      "        [-0.2230, -0.0298,  0.1676, -0.0494, -0.1481,  0.2107, -0.2353, -0.2133,\n",
      "          0.0059],\n",
      "        [-0.2208,  0.2349,  0.0301,  0.2183, -0.0558, -0.1345, -0.0384,  0.0527,\n",
      "         -0.2264],\n",
      "        [ 0.0103, -0.0634,  0.1744,  0.0693, -0.1764,  0.0236,  0.1312, -0.2101,\n",
      "         -0.2470],\n",
      "        [-0.2251,  0.1710, -0.0201, -0.1996, -0.1497, -0.2362, -0.0746,  0.1765,\n",
      "          0.0950]], requires_grad=True))\n",
      "('weight_hh_l0', Parameter containing:\n",
      "tensor([[-0.1271, -0.1308,  0.1569,  0.0270, -0.1886, -0.1899,  0.0543, -0.2444,\n",
      "         -0.0824, -0.1838,  0.0850, -0.1504,  0.0065,  0.0675,  0.2078, -0.1346],\n",
      "        [ 0.1468, -0.0232, -0.1072, -0.2030,  0.0115, -0.2436, -0.0373,  0.0102,\n",
      "          0.0816, -0.0407,  0.0954, -0.2144, -0.0909,  0.2030,  0.0854, -0.0034],\n",
      "        [-0.0608, -0.2266, -0.1741,  0.1817, -0.0579,  0.2078,  0.2039, -0.0390,\n",
      "         -0.1684,  0.1542, -0.0585,  0.1914, -0.0412, -0.0073,  0.1152, -0.2442],\n",
      "        [ 0.1033, -0.2411, -0.0987, -0.2093,  0.0219,  0.1155,  0.1574,  0.0325,\n",
      "         -0.1817,  0.1634, -0.0777,  0.1283,  0.2356, -0.0488, -0.0159,  0.1829],\n",
      "        [-0.1853, -0.0700,  0.0944, -0.0641,  0.2262, -0.1618, -0.2120,  0.1034,\n",
      "          0.0510,  0.2152, -0.2405,  0.0634,  0.1066, -0.1023, -0.0100,  0.1943],\n",
      "        [ 0.2046, -0.0667,  0.1985, -0.1555, -0.1646,  0.2194, -0.0176,  0.0610,\n",
      "          0.1281, -0.0763, -0.1685,  0.1131, -0.1250, -0.2086, -0.2100,  0.1630],\n",
      "        [ 0.1495, -0.1272,  0.2292, -0.2309, -0.0243, -0.1338,  0.0296,  0.2120,\n",
      "          0.1128, -0.0399, -0.0615, -0.1098, -0.2225, -0.0044,  0.0321,  0.0627],\n",
      "        [-0.1842, -0.2438,  0.1223, -0.0814,  0.0697, -0.0380, -0.2200,  0.2045,\n",
      "          0.0284, -0.1971, -0.0988,  0.0983, -0.0418,  0.1518, -0.0920,  0.0194],\n",
      "        [ 0.0131,  0.0377, -0.0973,  0.0765, -0.1253, -0.0710,  0.2175, -0.0095,\n",
      "          0.2417,  0.1837, -0.1412,  0.1109, -0.0172, -0.1926,  0.0783,  0.1089],\n",
      "        [ 0.0007, -0.0043,  0.1440,  0.1892,  0.0309,  0.1705, -0.1013, -0.1567,\n",
      "         -0.0167, -0.1598, -0.0659, -0.2443, -0.0206, -0.2252, -0.1962,  0.1284],\n",
      "        [-0.2019, -0.1405,  0.0444, -0.2266,  0.0653,  0.1503,  0.2038, -0.1597,\n",
      "          0.1466, -0.2326, -0.1655,  0.0980, -0.2270, -0.1204, -0.2083,  0.1138],\n",
      "        [-0.2024,  0.0442,  0.1286,  0.0362, -0.0691,  0.1644,  0.0592, -0.0045,\n",
      "         -0.2323, -0.1176, -0.2223, -0.0206,  0.0017,  0.2384,  0.0059, -0.1094],\n",
      "        [ 0.1442, -0.0488,  0.1244,  0.1124,  0.1891, -0.1479,  0.2310,  0.1206,\n",
      "          0.2192, -0.0880,  0.0980, -0.1939,  0.0173,  0.1352,  0.0663, -0.0704],\n",
      "        [-0.1498,  0.0509,  0.2333, -0.1553, -0.2488,  0.1212,  0.2354,  0.0480,\n",
      "          0.0626, -0.1641,  0.0415, -0.0497,  0.0519, -0.2155, -0.2433,  0.1439],\n",
      "        [ 0.1076,  0.0162, -0.1132,  0.1846,  0.2259,  0.0590,  0.2183, -0.2082,\n",
      "          0.2420,  0.1379, -0.1794,  0.0388,  0.0738,  0.1521,  0.0645, -0.1495],\n",
      "        [ 0.1312,  0.1171,  0.0466, -0.0261,  0.0566, -0.1928, -0.0220, -0.1603,\n",
      "          0.0892,  0.0399,  0.1763, -0.0624,  0.0749,  0.1134,  0.0449,  0.0428]],\n",
      "       requires_grad=True))\n",
      "('bias_ih_l0', Parameter containing:\n",
      "tensor([-0.0670,  0.1048, -0.1319,  0.1727, -0.1840,  0.1569, -0.0721,  0.0846,\n",
      "        -0.1064, -0.1984, -0.2201, -0.0185,  0.0196,  0.0490, -0.1064, -0.1413],\n",
      "       requires_grad=True))\n",
      "('bias_hh_l0', Parameter containing:\n",
      "tensor([-0.1909,  0.2103,  0.2050,  0.0484,  0.1037, -0.1736, -0.0597, -0.2482,\n",
      "        -0.1731,  0.2212, -0.1110, -0.0684, -0.1840, -0.1438, -0.0437, -0.1801],\n",
      "       requires_grad=True))\n"
     ]
    }
   ],
   "source": [
    "for p in rnn.named_parameters():\n",
    "    print(p)"
   ]
  },
  {
   "cell_type": "code",
   "execution_count": null,
   "id": "cece4a4b",
   "metadata": {},
   "outputs": [],
   "source": []
  },
  {
   "cell_type": "code",
   "execution_count": 12,
   "id": "9de83124",
   "metadata": {},
   "outputs": [
    {
     "name": "stdout",
     "output_type": "stream",
     "text": [
      "weight_ih_l0 has size [16, 9]\n",
      "weight_hh_l0 has size [16, 16]\n"
     ]
    }
   ],
   "source": [
    "# Check out the learned parameters and their sizes\n",
    "for p in rnn.named_parameters():\n",
    "    \n",
    "    if 'weight' in p[0]:\n",
    "        \n",
    "        print(f'{p[0]} has size {list(p[1].shape)}')\n",
    "    \n",
    "# l0: layer0"
   ]
  },
  {
   "cell_type": "code",
   "execution_count": null,
   "id": "f3a22302",
   "metadata": {},
   "outputs": [],
   "source": []
  },
  {
   "cell_type": "markdown",
   "id": "034900b6",
   "metadata": {},
   "source": [
    "## 3. Custom RNN class"
   ]
  },
  {
   "cell_type": "code",
   "execution_count": null,
   "id": "c9cd68de",
   "metadata": {},
   "outputs": [],
   "source": []
  },
  {
   "cell_type": "code",
   "execution_count": null,
   "id": "34e89138",
   "metadata": {},
   "outputs": [],
   "source": [
    "InputSize=InputSize,\n",
    "HiddenSize=HiddenSize,\n",
    "NumLayers=NumLayers,\n",
    "Act_Func=Act_Func,\n",
    "Bias_boolean=Bias_boolean"
   ]
  },
  {
   "cell_type": "code",
   "execution_count": 16,
   "id": "f3ce7cc3",
   "metadata": {},
   "outputs": [],
   "source": [
    "class RNNnet(nn.Module):\n",
    "    \n",
    "    def __init__(self, InputSize, HiddenSize, NumLayers, BatchSize=1):\n",
    "        super().__init__()\n",
    "\n",
    "        # store parameters\n",
    "        self.input_size = InputSize\n",
    "        self.num_hidden = HiddenSize\n",
    "        self.num_layers = NumLayers\n",
    "        self.batch_size = BatchSize\n",
    "\n",
    "        # RNN Layer\n",
    "        self.rnn = nn.RNN(InputSize, HiddenSize, NumLayers)\n",
    "\n",
    "        # Linear layer for output\n",
    "        self.out = nn.Linear(HiddenSize, 1)\n",
    "  \n",
    "    def forward(self,x):\n",
    "    \n",
    "        print(f'Input: {list(x.shape)}')\n",
    "    \n",
    "        # initialize hidden state for first input\n",
    "        hiddenstate = torch.zeros(self.num_layers, self.batch_size, self.num_hidden)\n",
    "        print(f'HiddenState Before: {list(hidden.shape)}')\n",
    "\n",
    "        # run through the RNN layer\n",
    "        y,hiddenstate = self.rnn(x,hidden)\n",
    "        print(f'RNN-out: {list(y.shape)}')\n",
    "        print(f'RNN-hiddenstate After: {list(hidden.shape)}')\n",
    "    \n",
    "        # pass the RNN output through the linear output layer\n",
    "        o = self.out(y)\n",
    "        print(f'Output: {list(o.shape)}')\n",
    "\n",
    "        return o, hidden"
   ]
  },
  {
   "cell_type": "code",
   "execution_count": null,
   "id": "5c15f63a",
   "metadata": {},
   "outputs": [],
   "source": []
  },
  {
   "cell_type": "code",
   "execution_count": 17,
   "id": "9b954212",
   "metadata": {},
   "outputs": [
    {
     "name": "stdout",
     "output_type": "stream",
     "text": [
      "RNNnet(\n",
      "  (rnn): RNN(9, 16)\n",
      "  (out): Linear(in_features=16, out_features=1, bias=True)\n",
      ")\n",
      " \n",
      "rnn.weight_ih_l0 has size [16, 9]\n",
      "rnn.weight_hh_l0 has size [16, 16]\n",
      "rnn.bias_ih_l0 has size [16]\n",
      "rnn.bias_hh_l0 has size [16]\n",
      "out.weight has size [1, 16]\n",
      "out.bias has size [1]\n"
     ]
    }
   ],
   "source": [
    "# create an instance of the model and inspect\n",
    "net = RNNnet(InputSize=9, HiddenSize=16, NumLayers=1, BatchSize=2)\n",
    "print(net), print(' ')\n",
    "\n",
    "# check out all learnable parameters\n",
    "for p in net.named_parameters():\n",
    "    print(f'{p[0]} has size {list(p[1].shape)}')"
   ]
  },
  {
   "cell_type": "code",
   "execution_count": null,
   "id": "4643294b",
   "metadata": {},
   "outputs": [],
   "source": []
  },
  {
   "cell_type": "markdown",
   "id": "53395162",
   "metadata": {},
   "source": [
    "### Test the model with some data"
   ]
  },
  {
   "cell_type": "code",
   "execution_count": 18,
   "id": "bde51c54",
   "metadata": {},
   "outputs": [
    {
     "name": "stdout",
     "output_type": "stream",
     "text": [
      "Input: [5, 2, 9]\n",
      "HiddenState Before: [1, 2, 16]\n",
      "RNN-out: [5, 2, 16]\n",
      "RNN-hiddenstate After: [1, 2, 16]\n",
      "Output: [5, 2, 1]\n"
     ]
    },
    {
     "data": {
      "text/plain": [
       "tensor(0.4487, grad_fn=<MseLossBackward0>)"
      ]
     },
     "execution_count": 18,
     "metadata": {},
     "output_type": "execute_result"
    }
   ],
   "source": [
    "# create some data\n",
    "\n",
    "seqlen = 5\n",
    "BatchSize=2\n",
    "InputSize=9\n",
    "\n",
    "X = torch.rand(seqlen, BatchSize, InputSize)\n",
    "y = torch.rand(seqlen,BatchSize,1)\n",
    "\n",
    "yHat,h = net(X)\n",
    "\n",
    "# try a loss function\n",
    "lossfun = nn.MSELoss()\n",
    "lossfun(yHat,y)"
   ]
  },
  {
   "cell_type": "code",
   "execution_count": null,
   "id": "66271944",
   "metadata": {},
   "outputs": [],
   "source": []
  },
  {
   "cell_type": "code",
   "execution_count": 21,
   "id": "9d44958b",
   "metadata": {},
   "outputs": [
    {
     "data": {
      "text/plain": [
       "tensor([[[-0.1556],\n",
       "         [-0.0895]],\n",
       "\n",
       "        [[-0.1924],\n",
       "         [-0.0319]],\n",
       "\n",
       "        [[-0.0592],\n",
       "         [-0.0285]],\n",
       "\n",
       "        [[ 0.0878],\n",
       "         [-0.0402]],\n",
       "\n",
       "        [[-0.0116],\n",
       "         [ 0.0003]]], grad_fn=<ViewBackward0>)"
      ]
     },
     "execution_count": 21,
     "metadata": {},
     "output_type": "execute_result"
    }
   ],
   "source": [
    "yHat"
   ]
  },
  {
   "cell_type": "code",
   "execution_count": null,
   "id": "aba3da9f",
   "metadata": {},
   "outputs": [],
   "source": []
  },
  {
   "cell_type": "code",
   "execution_count": null,
   "id": "ac7f0507",
   "metadata": {},
   "outputs": [],
   "source": []
  },
  {
   "cell_type": "code",
   "execution_count": null,
   "id": "fb855662",
   "metadata": {},
   "outputs": [],
   "source": []
  },
  {
   "cell_type": "code",
   "execution_count": null,
   "id": "94fc4fc7",
   "metadata": {},
   "outputs": [],
   "source": []
  }
 ],
 "metadata": {
  "kernelspec": {
   "display_name": "Python 3 (ipykernel)",
   "language": "python",
   "name": "python3"
  },
  "language_info": {
   "codemirror_mode": {
    "name": "ipython",
    "version": 3
   },
   "file_extension": ".py",
   "mimetype": "text/x-python",
   "name": "python",
   "nbconvert_exporter": "python",
   "pygments_lexer": "ipython3",
   "version": "3.10.9"
  }
 },
 "nbformat": 4,
 "nbformat_minor": 5
}
