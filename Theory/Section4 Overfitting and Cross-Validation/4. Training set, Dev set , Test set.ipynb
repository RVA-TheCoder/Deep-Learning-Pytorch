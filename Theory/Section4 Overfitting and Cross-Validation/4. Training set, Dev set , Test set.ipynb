{
 "cells": [
  {
   "cell_type": "code",
   "execution_count": 1,
   "id": "afb9351e",
   "metadata": {},
   "outputs": [],
   "source": [
    "import numpy as np\n",
    "import pandas as pd\n",
    "import matplotlib.pyplot as plt\n",
    "\n",
    "from sklearn.model_selection import train_test_split\n",
    "\n",
    "import torch.nn as nn\n",
    "import torch\n",
    "\n",
    "from torch.utils.data import DataLoader  ,TensorDataset"
   ]
  },
  {
   "cell_type": "code",
   "execution_count": null,
   "id": "bc82d742",
   "metadata": {},
   "outputs": [],
   "source": []
  },
  {
   "cell_type": "markdown",
   "id": "94cd9dba",
   "metadata": {},
   "source": [
    "## 1. Create Data"
   ]
  },
  {
   "cell_type": "code",
   "execution_count": null,
   "id": "d96021d6",
   "metadata": {},
   "outputs": [],
   "source": []
  },
  {
   "cell_type": "code",
   "execution_count": 2,
   "id": "0ff104b4",
   "metadata": {},
   "outputs": [],
   "source": [
    "import seaborn as sns"
   ]
  },
  {
   "cell_type": "code",
   "execution_count": 3,
   "id": "226a353e",
   "metadata": {},
   "outputs": [],
   "source": [
    "iris = sns.load_dataset(\"iris\")"
   ]
  },
  {
   "cell_type": "code",
   "execution_count": 4,
   "id": "c1f44f05",
   "metadata": {},
   "outputs": [
    {
     "data": {
      "text/plain": [
       "(150, 5)"
      ]
     },
     "execution_count": 4,
     "metadata": {},
     "output_type": "execute_result"
    }
   ],
   "source": [
    "iris.shape"
   ]
  },
  {
   "cell_type": "code",
   "execution_count": 5,
   "id": "87496525",
   "metadata": {},
   "outputs": [
    {
     "name": "stdout",
     "output_type": "stream",
     "text": [
      "<class 'pandas.core.frame.DataFrame'>\n",
      "RangeIndex: 150 entries, 0 to 149\n",
      "Data columns (total 5 columns):\n",
      " #   Column        Non-Null Count  Dtype  \n",
      "---  ------        --------------  -----  \n",
      " 0   sepal_length  150 non-null    float64\n",
      " 1   sepal_width   150 non-null    float64\n",
      " 2   petal_length  150 non-null    float64\n",
      " 3   petal_width   150 non-null    float64\n",
      " 4   species       150 non-null    object \n",
      "dtypes: float64(4), object(1)\n",
      "memory usage: 6.0+ KB\n"
     ]
    }
   ],
   "source": [
    "iris.info()"
   ]
  },
  {
   "cell_type": "code",
   "execution_count": null,
   "id": "13b618a4",
   "metadata": {},
   "outputs": [],
   "source": []
  },
  {
   "cell_type": "code",
   "execution_count": 6,
   "id": "96b0fdde",
   "metadata": {},
   "outputs": [
    {
     "data": {
      "text/html": [
       "<div>\n",
       "<style scoped>\n",
       "    .dataframe tbody tr th:only-of-type {\n",
       "        vertical-align: middle;\n",
       "    }\n",
       "\n",
       "    .dataframe tbody tr th {\n",
       "        vertical-align: top;\n",
       "    }\n",
       "\n",
       "    .dataframe thead th {\n",
       "        text-align: right;\n",
       "    }\n",
       "</style>\n",
       "<table border=\"1\" class=\"dataframe\">\n",
       "  <thead>\n",
       "    <tr style=\"text-align: right;\">\n",
       "      <th></th>\n",
       "      <th>sepal_length</th>\n",
       "      <th>sepal_width</th>\n",
       "      <th>petal_length</th>\n",
       "      <th>petal_width</th>\n",
       "      <th>species</th>\n",
       "    </tr>\n",
       "  </thead>\n",
       "  <tbody>\n",
       "    <tr>\n",
       "      <th>0</th>\n",
       "      <td>5.1</td>\n",
       "      <td>3.5</td>\n",
       "      <td>1.4</td>\n",
       "      <td>0.2</td>\n",
       "      <td>setosa</td>\n",
       "    </tr>\n",
       "    <tr>\n",
       "      <th>1</th>\n",
       "      <td>4.9</td>\n",
       "      <td>3.0</td>\n",
       "      <td>1.4</td>\n",
       "      <td>0.2</td>\n",
       "      <td>setosa</td>\n",
       "    </tr>\n",
       "    <tr>\n",
       "      <th>2</th>\n",
       "      <td>4.7</td>\n",
       "      <td>3.2</td>\n",
       "      <td>1.3</td>\n",
       "      <td>0.2</td>\n",
       "      <td>setosa</td>\n",
       "    </tr>\n",
       "    <tr>\n",
       "      <th>3</th>\n",
       "      <td>4.6</td>\n",
       "      <td>3.1</td>\n",
       "      <td>1.5</td>\n",
       "      <td>0.2</td>\n",
       "      <td>setosa</td>\n",
       "    </tr>\n",
       "    <tr>\n",
       "      <th>4</th>\n",
       "      <td>5.0</td>\n",
       "      <td>3.6</td>\n",
       "      <td>1.4</td>\n",
       "      <td>0.2</td>\n",
       "      <td>setosa</td>\n",
       "    </tr>\n",
       "  </tbody>\n",
       "</table>\n",
       "</div>"
      ],
      "text/plain": [
       "   sepal_length  sepal_width  petal_length  petal_width species\n",
       "0           5.1          3.5           1.4          0.2  setosa\n",
       "1           4.9          3.0           1.4          0.2  setosa\n",
       "2           4.7          3.2           1.3          0.2  setosa\n",
       "3           4.6          3.1           1.5          0.2  setosa\n",
       "4           5.0          3.6           1.4          0.2  setosa"
      ]
     },
     "execution_count": 6,
     "metadata": {},
     "output_type": "execute_result"
    }
   ],
   "source": [
    "iris.head()"
   ]
  },
  {
   "cell_type": "code",
   "execution_count": null,
   "id": "09dd84b1",
   "metadata": {},
   "outputs": [],
   "source": []
  },
  {
   "cell_type": "markdown",
   "id": "c1a6837f",
   "metadata": {},
   "source": [
    "## 2. Converting to tensor "
   ]
  },
  {
   "cell_type": "code",
   "execution_count": null,
   "id": "03867b78",
   "metadata": {},
   "outputs": [],
   "source": []
  },
  {
   "cell_type": "code",
   "execution_count": 7,
   "id": "ea646f55",
   "metadata": {},
   "outputs": [],
   "source": [
    "arr = iris[iris.columns[0:4]].values"
   ]
  },
  {
   "cell_type": "code",
   "execution_count": null,
   "id": "e4f93d7c",
   "metadata": {},
   "outputs": [],
   "source": []
  },
  {
   "cell_type": "markdown",
   "id": "c71aeff2",
   "metadata": {},
   "source": [
    "#### Predictiors or Independent features"
   ]
  },
  {
   "cell_type": "code",
   "execution_count": 8,
   "id": "b3cb49ba",
   "metadata": {},
   "outputs": [
    {
     "data": {
      "text/plain": [
       "tensor([[5.1000, 3.5000, 1.4000, 0.2000],\n",
       "        [4.9000, 3.0000, 1.4000, 0.2000],\n",
       "        [4.7000, 3.2000, 1.3000, 0.2000],\n",
       "        [4.6000, 3.1000, 1.5000, 0.2000],\n",
       "        [5.0000, 3.6000, 1.4000, 0.2000]])"
      ]
     },
     "execution_count": 8,
     "metadata": {},
     "output_type": "execute_result"
    }
   ],
   "source": [
    "data = torch.tensor(arr ,dtype = torch.float )\n",
    "data[:5]"
   ]
  },
  {
   "cell_type": "code",
   "execution_count": null,
   "id": "c2273e18",
   "metadata": {},
   "outputs": [],
   "source": []
  },
  {
   "cell_type": "markdown",
   "id": "14219037",
   "metadata": {},
   "source": [
    "#### Labels"
   ]
  },
  {
   "cell_type": "code",
   "execution_count": null,
   "id": "340794d3",
   "metadata": {},
   "outputs": [],
   "source": []
  },
  {
   "cell_type": "code",
   "execution_count": 9,
   "id": "40bc5737",
   "metadata": {},
   "outputs": [],
   "source": [
    "labels = torch.zeros(size = ( len(iris), )  ,dtype = torch.long)"
   ]
  },
  {
   "cell_type": "code",
   "execution_count": 10,
   "id": "e68fd137",
   "metadata": {},
   "outputs": [
    {
     "data": {
      "text/plain": [
       "tensor([0, 0, 0, 0, 0, 0, 0, 0, 0, 0, 0, 0, 0, 0, 0, 0, 0, 0, 0, 0, 0, 0, 0, 0,\n",
       "        0, 0, 0, 0, 0, 0, 0, 0, 0, 0, 0, 0, 0, 0, 0, 0, 0, 0, 0, 0, 0, 0, 0, 0,\n",
       "        0, 0, 0, 0, 0, 0, 0, 0, 0, 0, 0, 0, 0, 0, 0, 0, 0, 0, 0, 0, 0, 0, 0, 0,\n",
       "        0, 0, 0, 0, 0, 0, 0, 0, 0, 0, 0, 0, 0, 0, 0, 0, 0, 0, 0, 0, 0, 0, 0, 0,\n",
       "        0, 0, 0, 0, 0, 0, 0, 0, 0, 0, 0, 0, 0, 0, 0, 0, 0, 0, 0, 0, 0, 0, 0, 0,\n",
       "        0, 0, 0, 0, 0, 0, 0, 0, 0, 0, 0, 0, 0, 0, 0, 0, 0, 0, 0, 0, 0, 0, 0, 0,\n",
       "        0, 0, 0, 0, 0, 0])"
      ]
     },
     "execution_count": 10,
     "metadata": {},
     "output_type": "execute_result"
    }
   ],
   "source": [
    "labels"
   ]
  },
  {
   "cell_type": "code",
   "execution_count": null,
   "id": "02a0238d",
   "metadata": {},
   "outputs": [],
   "source": []
  },
  {
   "cell_type": "code",
   "execution_count": 11,
   "id": "73f5c81a",
   "metadata": {},
   "outputs": [
    {
     "data": {
      "text/plain": [
       "setosa        50\n",
       "versicolor    50\n",
       "virginica     50\n",
       "Name: species, dtype: int64"
      ]
     },
     "execution_count": 11,
     "metadata": {},
     "output_type": "execute_result"
    }
   ],
   "source": [
    "iris[\"species\"].value_counts()"
   ]
  },
  {
   "cell_type": "code",
   "execution_count": 12,
   "id": "d218116a",
   "metadata": {},
   "outputs": [],
   "source": [
    "labels[iris[\"species\"] == \"versicolor\"] = 1"
   ]
  },
  {
   "cell_type": "code",
   "execution_count": 13,
   "id": "abee4a02",
   "metadata": {},
   "outputs": [],
   "source": [
    "labels[iris[\"species\"] == \"virginica\"]  = 2"
   ]
  },
  {
   "cell_type": "markdown",
   "id": "f78239d8",
   "metadata": {},
   "source": [
    "    setosa       0\n",
    "    versicolor   1\n",
    "    virginica    2"
   ]
  },
  {
   "cell_type": "code",
   "execution_count": 14,
   "id": "3a4b8048",
   "metadata": {},
   "outputs": [
    {
     "data": {
      "text/plain": [
       "tensor([0, 0, 0, 0, 0, 0, 0, 0, 0, 0, 0, 0, 0, 0, 0, 0, 0, 0, 0, 0, 0, 0, 0, 0,\n",
       "        0, 0, 0, 0, 0, 0, 0, 0, 0, 0, 0, 0, 0, 0, 0, 0, 0, 0, 0, 0, 0, 0, 0, 0,\n",
       "        0, 0, 1, 1, 1, 1, 1, 1, 1, 1, 1, 1, 1, 1, 1, 1, 1, 1, 1, 1, 1, 1, 1, 1,\n",
       "        1, 1, 1, 1, 1, 1, 1, 1, 1, 1, 1, 1, 1, 1, 1, 1, 1, 1, 1, 1, 1, 1, 1, 1,\n",
       "        1, 1, 1, 1, 2, 2, 2, 2, 2, 2, 2, 2, 2, 2, 2, 2, 2, 2, 2, 2, 2, 2, 2, 2,\n",
       "        2, 2, 2, 2, 2, 2, 2, 2, 2, 2, 2, 2, 2, 2, 2, 2, 2, 2, 2, 2, 2, 2, 2, 2,\n",
       "        2, 2, 2, 2, 2, 2])"
      ]
     },
     "execution_count": 14,
     "metadata": {},
     "output_type": "execute_result"
    }
   ],
   "source": [
    "labels"
   ]
  },
  {
   "cell_type": "code",
   "execution_count": null,
   "id": "ba326f15",
   "metadata": {},
   "outputs": [],
   "source": []
  },
  {
   "cell_type": "markdown",
   "id": "74d0ef70",
   "metadata": {},
   "source": [
    "## 3. Splitting data into Train , Dev and Test set"
   ]
  },
  {
   "cell_type": "code",
   "execution_count": null,
   "id": "a656d009",
   "metadata": {},
   "outputs": [],
   "source": []
  },
  {
   "cell_type": "markdown",
   "id": "bd409346",
   "metadata": {},
   "source": [
    "#### (i) STEP 1 : Splitting into train and dev_test dataset"
   ]
  },
  {
   "cell_type": "code",
   "execution_count": 15,
   "id": "6aa7d02b",
   "metadata": {
    "id": "8bxbHGkP7JW3"
   },
   "outputs": [],
   "source": [
    "# specify sizes of the partitions\n",
    "# order is : train , devset , test\n",
    "\n",
    "partitions = [.8,.1,.1]\n",
    "\n",
    "# split the data \n",
    "train_data , Dev_test_data , train_labels , Dev_test_labels = \\\n",
    "                   train_test_split(data, labels, train_size=partitions[0])"
   ]
  },
  {
   "cell_type": "code",
   "execution_count": null,
   "id": "dc657020",
   "metadata": {},
   "outputs": [],
   "source": []
  },
  {
   "cell_type": "code",
   "execution_count": 16,
   "id": "0389a5bd",
   "metadata": {
    "scrolled": false
   },
   "outputs": [
    {
     "data": {
      "text/plain": [
       "tensor([[6.4000, 2.7000, 5.3000, 1.9000],\n",
       "        [7.7000, 3.8000, 6.7000, 2.2000],\n",
       "        [5.9000, 3.0000, 5.1000, 1.8000],\n",
       "        [6.0000, 2.2000, 5.0000, 1.5000],\n",
       "        [5.7000, 2.8000, 4.5000, 1.3000],\n",
       "        [5.1000, 3.4000, 1.5000, 0.2000],\n",
       "        [5.0000, 3.2000, 1.2000, 0.2000],\n",
       "        [4.7000, 3.2000, 1.3000, 0.2000],\n",
       "        [5.2000, 3.4000, 1.4000, 0.2000],\n",
       "        [7.0000, 3.2000, 4.7000, 1.4000],\n",
       "        [6.8000, 3.0000, 5.5000, 2.1000],\n",
       "        [6.7000, 3.3000, 5.7000, 2.1000],\n",
       "        [6.7000, 3.1000, 4.7000, 1.5000],\n",
       "        [5.1000, 3.5000, 1.4000, 0.2000],\n",
       "        [5.6000, 2.5000, 3.9000, 1.1000],\n",
       "        [5.7000, 4.4000, 1.5000, 0.4000],\n",
       "        [7.2000, 3.0000, 5.8000, 1.6000],\n",
       "        [5.8000, 2.8000, 5.1000, 2.4000],\n",
       "        [6.2000, 2.9000, 4.3000, 1.3000],\n",
       "        [6.0000, 2.2000, 4.0000, 1.0000],\n",
       "        [5.9000, 3.0000, 4.2000, 1.5000],\n",
       "        [5.5000, 4.2000, 1.4000, 0.2000],\n",
       "        [5.5000, 2.6000, 4.4000, 1.2000],\n",
       "        [6.0000, 2.9000, 4.5000, 1.5000],\n",
       "        [7.4000, 2.8000, 6.1000, 1.9000],\n",
       "        [5.1000, 3.8000, 1.5000, 0.3000],\n",
       "        [6.3000, 2.5000, 4.9000, 1.5000],\n",
       "        [7.6000, 3.0000, 6.6000, 2.1000],\n",
       "        [5.4000, 3.7000, 1.5000, 0.2000],\n",
       "        [7.7000, 2.6000, 6.9000, 2.3000],\n",
       "        [5.0000, 3.5000, 1.6000, 0.6000],\n",
       "        [5.4000, 3.4000, 1.7000, 0.2000],\n",
       "        [4.8000, 3.1000, 1.6000, 0.2000],\n",
       "        [5.7000, 2.8000, 4.1000, 1.3000],\n",
       "        [5.7000, 2.6000, 3.5000, 1.0000],\n",
       "        [5.8000, 2.7000, 5.1000, 1.9000],\n",
       "        [5.5000, 3.5000, 1.3000, 0.2000],\n",
       "        [5.5000, 2.4000, 3.8000, 1.1000],\n",
       "        [5.4000, 3.4000, 1.5000, 0.4000],\n",
       "        [6.3000, 2.7000, 4.9000, 1.8000],\n",
       "        [6.4000, 2.8000, 5.6000, 2.1000],\n",
       "        [4.5000, 2.3000, 1.3000, 0.3000],\n",
       "        [5.6000, 3.0000, 4.5000, 1.5000],\n",
       "        [5.6000, 3.0000, 4.1000, 1.3000],\n",
       "        [5.0000, 3.4000, 1.5000, 0.2000],\n",
       "        [6.0000, 3.0000, 4.8000, 1.8000],\n",
       "        [6.9000, 3.1000, 5.4000, 2.1000],\n",
       "        [4.6000, 3.2000, 1.4000, 0.2000],\n",
       "        [5.1000, 3.3000, 1.7000, 0.5000],\n",
       "        [6.1000, 2.6000, 5.6000, 1.4000],\n",
       "        [7.7000, 3.0000, 6.1000, 2.3000],\n",
       "        [6.5000, 3.0000, 5.5000, 1.8000],\n",
       "        [7.1000, 3.0000, 5.9000, 2.1000],\n",
       "        [6.8000, 2.8000, 4.8000, 1.4000],\n",
       "        [4.8000, 3.0000, 1.4000, 0.3000],\n",
       "        [5.7000, 2.9000, 4.2000, 1.3000],\n",
       "        [7.2000, 3.6000, 6.1000, 2.5000],\n",
       "        [5.8000, 2.6000, 4.0000, 1.2000],\n",
       "        [4.8000, 3.0000, 1.4000, 0.1000],\n",
       "        [6.7000, 3.3000, 5.7000, 2.5000],\n",
       "        [6.1000, 3.0000, 4.9000, 1.8000],\n",
       "        [5.3000, 3.7000, 1.5000, 0.2000],\n",
       "        [6.0000, 3.4000, 4.5000, 1.6000],\n",
       "        [5.7000, 3.0000, 4.2000, 1.2000],\n",
       "        [6.9000, 3.2000, 5.7000, 2.3000],\n",
       "        [6.4000, 2.9000, 4.3000, 1.3000],\n",
       "        [4.6000, 3.4000, 1.4000, 0.3000],\n",
       "        [7.3000, 2.9000, 6.3000, 1.8000],\n",
       "        [6.1000, 2.8000, 4.0000, 1.3000],\n",
       "        [5.0000, 3.4000, 1.6000, 0.4000],\n",
       "        [5.8000, 2.7000, 3.9000, 1.2000],\n",
       "        [5.7000, 3.8000, 1.7000, 0.3000],\n",
       "        [5.2000, 2.7000, 3.9000, 1.4000],\n",
       "        [4.4000, 3.2000, 1.3000, 0.2000],\n",
       "        [7.9000, 3.8000, 6.4000, 2.0000],\n",
       "        [5.2000, 3.5000, 1.5000, 0.2000],\n",
       "        [6.7000, 3.1000, 4.4000, 1.4000],\n",
       "        [5.1000, 3.5000, 1.4000, 0.3000],\n",
       "        [7.2000, 3.2000, 6.0000, 1.8000],\n",
       "        [5.4000, 3.9000, 1.7000, 0.4000],\n",
       "        [6.5000, 3.0000, 5.2000, 2.0000],\n",
       "        [4.6000, 3.6000, 1.0000, 0.2000],\n",
       "        [4.6000, 3.1000, 1.5000, 0.2000],\n",
       "        [6.7000, 2.5000, 5.8000, 1.8000],\n",
       "        [4.7000, 3.2000, 1.6000, 0.2000],\n",
       "        [5.0000, 2.3000, 3.3000, 1.0000],\n",
       "        [6.3000, 3.4000, 5.6000, 2.4000],\n",
       "        [6.4000, 3.1000, 5.5000, 1.8000],\n",
       "        [6.1000, 2.8000, 4.7000, 1.2000],\n",
       "        [4.9000, 3.6000, 1.4000, 0.1000],\n",
       "        [6.0000, 2.7000, 5.1000, 1.6000],\n",
       "        [6.5000, 2.8000, 4.6000, 1.5000],\n",
       "        [5.6000, 2.7000, 4.2000, 1.3000],\n",
       "        [6.3000, 2.9000, 5.6000, 1.8000],\n",
       "        [5.9000, 3.2000, 4.8000, 1.8000],\n",
       "        [6.3000, 2.8000, 5.1000, 1.5000],\n",
       "        [6.7000, 3.0000, 5.2000, 2.3000],\n",
       "        [6.9000, 3.1000, 5.1000, 2.3000],\n",
       "        [5.1000, 2.5000, 3.0000, 1.1000],\n",
       "        [6.7000, 3.1000, 5.6000, 2.4000],\n",
       "        [6.3000, 3.3000, 4.7000, 1.6000],\n",
       "        [6.2000, 2.2000, 4.5000, 1.5000],\n",
       "        [6.5000, 3.0000, 5.8000, 2.2000],\n",
       "        [5.1000, 3.8000, 1.9000, 0.4000],\n",
       "        [5.8000, 4.0000, 1.2000, 0.2000],\n",
       "        [6.3000, 3.3000, 6.0000, 2.5000],\n",
       "        [4.4000, 3.0000, 1.3000, 0.2000],\n",
       "        [5.5000, 2.5000, 4.0000, 1.3000],\n",
       "        [5.8000, 2.7000, 4.1000, 1.0000],\n",
       "        [6.4000, 3.2000, 5.3000, 2.3000],\n",
       "        [5.4000, 3.0000, 4.5000, 1.5000],\n",
       "        [4.3000, 3.0000, 1.1000, 0.1000],\n",
       "        [6.5000, 3.2000, 5.1000, 2.0000],\n",
       "        [5.6000, 2.9000, 3.6000, 1.3000],\n",
       "        [6.3000, 2.3000, 4.4000, 1.3000],\n",
       "        [6.2000, 2.8000, 4.8000, 1.8000],\n",
       "        [6.6000, 3.0000, 4.4000, 1.4000],\n",
       "        [5.5000, 2.3000, 4.0000, 1.3000],\n",
       "        [6.4000, 3.2000, 4.5000, 1.5000],\n",
       "        [5.0000, 2.0000, 3.5000, 1.0000]])"
      ]
     },
     "execution_count": 16,
     "metadata": {},
     "output_type": "execute_result"
    }
   ],
   "source": [
    "train_data"
   ]
  },
  {
   "cell_type": "code",
   "execution_count": 20,
   "id": "843cc3da",
   "metadata": {},
   "outputs": [
    {
     "data": {
      "text/plain": [
       "120"
      ]
     },
     "execution_count": 20,
     "metadata": {},
     "output_type": "execute_result"
    }
   ],
   "source": [
    "len(train_data)"
   ]
  },
  {
   "cell_type": "code",
   "execution_count": 17,
   "id": "85861d54",
   "metadata": {},
   "outputs": [
    {
     "data": {
      "text/plain": [
       "tensor([2, 2, 2, 2, 1, 0, 0, 0, 0, 1, 2, 2, 1, 0, 1, 0, 2, 2, 1, 1, 1, 0, 1, 1,\n",
       "        2, 0, 1, 2, 0, 2, 0, 0, 0, 1, 1, 2, 0, 1, 0, 2, 2, 0, 1, 1, 0, 2, 2, 0,\n",
       "        0, 2, 2, 2, 2, 1, 0, 1, 2, 1, 0, 2, 2, 0, 1, 1, 2, 1, 0, 2, 1, 0, 1, 0,\n",
       "        1, 0, 2, 0, 1, 0, 2, 0, 2, 0, 0, 2, 0, 1, 2, 2, 1, 0, 1, 1, 1, 2, 1, 2,\n",
       "        2, 2, 1, 2, 1, 1, 2, 0, 0, 2, 0, 1, 1, 2, 1, 0, 2, 1, 1, 2, 1, 1, 1, 1])"
      ]
     },
     "execution_count": 17,
     "metadata": {},
     "output_type": "execute_result"
    }
   ],
   "source": [
    "train_labels"
   ]
  },
  {
   "cell_type": "code",
   "execution_count": 21,
   "id": "40c0cb68",
   "metadata": {},
   "outputs": [
    {
     "data": {
      "text/plain": [
       "120"
      ]
     },
     "execution_count": 21,
     "metadata": {},
     "output_type": "execute_result"
    }
   ],
   "source": [
    "len(train_labels)"
   ]
  },
  {
   "cell_type": "code",
   "execution_count": null,
   "id": "b16ae6ff",
   "metadata": {},
   "outputs": [],
   "source": []
  },
  {
   "cell_type": "code",
   "execution_count": 18,
   "id": "f902cd6b",
   "metadata": {},
   "outputs": [
    {
     "data": {
      "text/plain": [
       "tensor([[4.9000, 3.1000, 1.5000, 0.2000],\n",
       "        [6.3000, 2.5000, 5.0000, 1.9000],\n",
       "        [6.1000, 2.9000, 4.7000, 1.4000],\n",
       "        [6.6000, 2.9000, 4.6000, 1.3000],\n",
       "        [6.7000, 3.0000, 5.0000, 1.7000],\n",
       "        [4.9000, 2.4000, 3.3000, 1.0000],\n",
       "        [4.4000, 2.9000, 1.4000, 0.2000],\n",
       "        [6.9000, 3.1000, 4.9000, 1.5000],\n",
       "        [4.9000, 3.1000, 1.5000, 0.1000],\n",
       "        [6.2000, 3.4000, 5.4000, 2.3000],\n",
       "        [6.8000, 3.2000, 5.9000, 2.3000],\n",
       "        [5.1000, 3.7000, 1.5000, 0.4000],\n",
       "        [6.1000, 3.0000, 4.6000, 1.4000],\n",
       "        [5.0000, 3.3000, 1.4000, 0.2000],\n",
       "        [5.6000, 2.8000, 4.9000, 2.0000],\n",
       "        [5.2000, 4.1000, 1.5000, 0.1000],\n",
       "        [5.0000, 3.0000, 1.6000, 0.2000],\n",
       "        [4.8000, 3.4000, 1.9000, 0.2000],\n",
       "        [7.7000, 2.8000, 6.7000, 2.0000],\n",
       "        [5.5000, 2.4000, 3.7000, 1.0000],\n",
       "        [5.0000, 3.5000, 1.3000, 0.3000],\n",
       "        [5.4000, 3.9000, 1.3000, 0.4000],\n",
       "        [5.0000, 3.6000, 1.4000, 0.2000],\n",
       "        [4.8000, 3.4000, 1.6000, 0.2000],\n",
       "        [4.9000, 3.0000, 1.4000, 0.2000],\n",
       "        [4.9000, 2.5000, 4.5000, 1.7000],\n",
       "        [5.8000, 2.7000, 5.1000, 1.9000],\n",
       "        [5.7000, 2.5000, 5.0000, 2.0000],\n",
       "        [5.1000, 3.8000, 1.6000, 0.2000],\n",
       "        [6.4000, 2.8000, 5.6000, 2.2000]])"
      ]
     },
     "execution_count": 18,
     "metadata": {},
     "output_type": "execute_result"
    }
   ],
   "source": [
    "Dev_test_data"
   ]
  },
  {
   "cell_type": "code",
   "execution_count": 22,
   "id": "a2815244",
   "metadata": {},
   "outputs": [
    {
     "data": {
      "text/plain": [
       "30"
      ]
     },
     "execution_count": 22,
     "metadata": {},
     "output_type": "execute_result"
    }
   ],
   "source": [
    "len(Dev_test_data)"
   ]
  },
  {
   "cell_type": "code",
   "execution_count": null,
   "id": "313a5d05",
   "metadata": {},
   "outputs": [],
   "source": []
  },
  {
   "cell_type": "code",
   "execution_count": 19,
   "id": "6eca1025",
   "metadata": {},
   "outputs": [
    {
     "data": {
      "text/plain": [
       "tensor([0, 2, 1, 1, 1, 1, 0, 1, 0, 2, 2, 0, 1, 0, 2, 0, 0, 0, 2, 1, 0, 0, 0, 0,\n",
       "        0, 2, 2, 2, 0, 2])"
      ]
     },
     "execution_count": 19,
     "metadata": {},
     "output_type": "execute_result"
    }
   ],
   "source": [
    "Dev_test_labels"
   ]
  },
  {
   "cell_type": "code",
   "execution_count": 23,
   "id": "bc992f3f",
   "metadata": {},
   "outputs": [
    {
     "data": {
      "text/plain": [
       "30"
      ]
     },
     "execution_count": 23,
     "metadata": {},
     "output_type": "execute_result"
    }
   ],
   "source": [
    "len(Dev_test_labels)"
   ]
  },
  {
   "cell_type": "code",
   "execution_count": null,
   "id": "430103a2",
   "metadata": {},
   "outputs": [],
   "source": []
  },
  {
   "cell_type": "markdown",
   "id": "af274bbe",
   "metadata": {},
   "source": [
    "#### STEP 2 : Splitting the dev and test set equally"
   ]
  },
  {
   "cell_type": "code",
   "execution_count": 25,
   "id": "bfa91488",
   "metadata": {},
   "outputs": [],
   "source": [
    "split = partitions[1]/np.sum(partitions[1:]) # 50%\n",
    "\n",
    "dev_data , test_data , dev_labels , test_labels = \\\n",
    "                   train_test_split(Dev_test_data, Dev_test_labels, train_size=split)"
   ]
  },
  {
   "cell_type": "code",
   "execution_count": null,
   "id": "b8200a25",
   "metadata": {},
   "outputs": [],
   "source": []
  },
  {
   "cell_type": "code",
   "execution_count": 26,
   "id": "92a3457d",
   "metadata": {},
   "outputs": [
    {
     "data": {
      "text/plain": [
       "tensor([[7.7000, 2.8000, 6.7000, 2.0000],\n",
       "        [4.9000, 2.4000, 3.3000, 1.0000],\n",
       "        [4.9000, 2.5000, 4.5000, 1.7000],\n",
       "        [6.8000, 3.2000, 5.9000, 2.3000],\n",
       "        [4.8000, 3.4000, 1.9000, 0.2000],\n",
       "        [5.1000, 3.8000, 1.6000, 0.2000],\n",
       "        [5.8000, 2.7000, 5.1000, 1.9000],\n",
       "        [6.2000, 3.4000, 5.4000, 2.3000],\n",
       "        [4.9000, 3.1000, 1.5000, 0.2000],\n",
       "        [5.4000, 3.9000, 1.3000, 0.4000],\n",
       "        [6.1000, 3.0000, 4.6000, 1.4000],\n",
       "        [5.5000, 2.4000, 3.7000, 1.0000],\n",
       "        [6.7000, 3.0000, 5.0000, 1.7000],\n",
       "        [6.6000, 2.9000, 4.6000, 1.3000],\n",
       "        [5.0000, 3.6000, 1.4000, 0.2000]])"
      ]
     },
     "execution_count": 26,
     "metadata": {},
     "output_type": "execute_result"
    }
   ],
   "source": [
    "dev_data"
   ]
  },
  {
   "cell_type": "code",
   "execution_count": 27,
   "id": "9baa701f",
   "metadata": {},
   "outputs": [
    {
     "data": {
      "text/plain": [
       "15"
      ]
     },
     "execution_count": 27,
     "metadata": {},
     "output_type": "execute_result"
    }
   ],
   "source": [
    "len(dev_data)"
   ]
  },
  {
   "cell_type": "code",
   "execution_count": 28,
   "id": "32ecf209",
   "metadata": {},
   "outputs": [
    {
     "data": {
      "text/plain": [
       "tensor([2, 1, 2, 2, 0, 0, 2, 2, 0, 0, 1, 1, 1, 1, 0])"
      ]
     },
     "execution_count": 28,
     "metadata": {},
     "output_type": "execute_result"
    }
   ],
   "source": [
    "dev_labels"
   ]
  },
  {
   "cell_type": "code",
   "execution_count": 29,
   "id": "8e4abc8c",
   "metadata": {},
   "outputs": [
    {
     "data": {
      "text/plain": [
       "15"
      ]
     },
     "execution_count": 29,
     "metadata": {},
     "output_type": "execute_result"
    }
   ],
   "source": [
    "len(dev_labels)"
   ]
  },
  {
   "cell_type": "code",
   "execution_count": null,
   "id": "c11eb2d9",
   "metadata": {},
   "outputs": [],
   "source": []
  },
  {
   "cell_type": "code",
   "execution_count": 30,
   "id": "aa8edde2",
   "metadata": {},
   "outputs": [
    {
     "data": {
      "text/plain": [
       "tensor([[6.1000, 2.9000, 4.7000, 1.4000],\n",
       "        [5.0000, 3.3000, 1.4000, 0.2000],\n",
       "        [4.9000, 3.0000, 1.4000, 0.2000],\n",
       "        [5.6000, 2.8000, 4.9000, 2.0000],\n",
       "        [6.3000, 2.5000, 5.0000, 1.9000],\n",
       "        [5.0000, 3.5000, 1.3000, 0.3000],\n",
       "        [5.7000, 2.5000, 5.0000, 2.0000],\n",
       "        [4.8000, 3.4000, 1.6000, 0.2000],\n",
       "        [5.2000, 4.1000, 1.5000, 0.1000],\n",
       "        [5.1000, 3.7000, 1.5000, 0.4000],\n",
       "        [4.9000, 3.1000, 1.5000, 0.1000],\n",
       "        [4.4000, 2.9000, 1.4000, 0.2000],\n",
       "        [5.0000, 3.0000, 1.6000, 0.2000],\n",
       "        [6.4000, 2.8000, 5.6000, 2.2000],\n",
       "        [6.9000, 3.1000, 4.9000, 1.5000]])"
      ]
     },
     "execution_count": 30,
     "metadata": {},
     "output_type": "execute_result"
    }
   ],
   "source": [
    "test_data"
   ]
  },
  {
   "cell_type": "code",
   "execution_count": 31,
   "id": "5619af23",
   "metadata": {},
   "outputs": [
    {
     "data": {
      "text/plain": [
       "15"
      ]
     },
     "execution_count": 31,
     "metadata": {},
     "output_type": "execute_result"
    }
   ],
   "source": [
    "len(test_data)"
   ]
  },
  {
   "cell_type": "code",
   "execution_count": null,
   "id": "6f557e3f",
   "metadata": {},
   "outputs": [],
   "source": []
  },
  {
   "cell_type": "code",
   "execution_count": 32,
   "id": "26dfc754",
   "metadata": {},
   "outputs": [
    {
     "data": {
      "text/plain": [
       "tensor([1, 0, 0, 2, 2, 0, 2, 0, 0, 0, 0, 0, 0, 2, 1])"
      ]
     },
     "execution_count": 32,
     "metadata": {},
     "output_type": "execute_result"
    }
   ],
   "source": [
    "test_labels"
   ]
  },
  {
   "cell_type": "code",
   "execution_count": 33,
   "id": "d192b2a5",
   "metadata": {},
   "outputs": [
    {
     "data": {
      "text/plain": [
       "15"
      ]
     },
     "execution_count": 33,
     "metadata": {},
     "output_type": "execute_result"
    }
   ],
   "source": [
    "len(test_labels)"
   ]
  },
  {
   "cell_type": "code",
   "execution_count": null,
   "id": "121c21f9",
   "metadata": {},
   "outputs": [],
   "source": []
  },
  {
   "cell_type": "code",
   "execution_count": null,
   "id": "af22721d",
   "metadata": {},
   "outputs": [],
   "source": []
  }
 ],
 "metadata": {
  "kernelspec": {
   "display_name": "Python 3 (ipykernel)",
   "language": "python",
   "name": "python3"
  },
  "language_info": {
   "codemirror_mode": {
    "name": "ipython",
    "version": 3
   },
   "file_extension": ".py",
   "mimetype": "text/x-python",
   "name": "python",
   "nbconvert_exporter": "python",
   "pygments_lexer": "ipython3",
   "version": "3.10.9"
  }
 },
 "nbformat": 4,
 "nbformat_minor": 5
}
