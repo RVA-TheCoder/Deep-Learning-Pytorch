{
 "cells": [
  {
   "cell_type": "code",
   "execution_count": 1,
   "id": "2d2ae126",
   "metadata": {},
   "outputs": [],
   "source": [
    "import torch\n",
    "import torch.nn as nn\n",
    "import torch.nn.functional  as F"
   ]
  },
  {
   "cell_type": "code",
   "execution_count": null,
   "id": "e0eb9a76",
   "metadata": {},
   "outputs": [],
   "source": []
  },
  {
   "cell_type": "code",
   "execution_count": 4,
   "id": "aeef1304",
   "metadata": {
    "id": "PakwZXu08s6B"
   },
   "outputs": [
    {
     "name": "stdout",
     "output_type": "stream",
     "text": [
      "x :  tensor([1., 1., 1., 1., 1., 1., 1., 1., 1., 1.])\n",
      "y :  tensor([2., 0., 0., 2., 0., 0., 0., 0., 2., 2.])\n",
      "Mean of y :  tensor(0.8000)\n"
     ]
    }
   ],
   "source": [
    "# Define of dropout probability\n",
    "prob = .5\n",
    "\n",
    "# Create some data\n",
    "x = torch.ones(10)\n",
    "\n",
    "# Define a dropout instance \n",
    "dropout = nn.Dropout(p=prob)\n",
    "\n",
    "# let's see what dropout returns\n",
    "y = dropout(x)\n",
    "\n",
    "print(\"x : \" , x)\n",
    "print(\"y : \",y)\n",
    "print(\"Mean of y : \",torch.mean(y))"
   ]
  },
  {
   "cell_type": "code",
   "execution_count": null,
   "id": "cd77abff",
   "metadata": {},
   "outputs": [],
   "source": []
  },
  {
   "cell_type": "markdown",
   "id": "bb9dfa2d",
   "metadata": {},
   "source": [
    "### Turning OFF dropout"
   ]
  },
  {
   "cell_type": "code",
   "execution_count": null,
   "id": "d46f4ad8",
   "metadata": {},
   "outputs": [],
   "source": []
  },
  {
   "cell_type": "code",
   "execution_count": 5,
   "id": "7d94e911",
   "metadata": {},
   "outputs": [
    {
     "name": "stdout",
     "output_type": "stream",
     "text": [
      "X :  tensor([1., 1., 1., 1., 1., 1., 1., 1., 1., 1.])\n",
      "y :  tensor([1., 1., 1., 1., 1., 1., 1., 1., 1., 1.])\n",
      "Mean of y :  tensor(1.)\n"
     ]
    }
   ],
   "source": [
    "# dropout is turned off when evaluating the model\n",
    "\n",
    "# Note : once we've turned off the dropout then it we'll remain turned off \n",
    "#        untill we manually turn it ON\n",
    "\n",
    "dropout.eval()\n",
    "\n",
    "y = dropout(x)\n",
    "\n",
    "print(\"X : \",x)\n",
    "print(\"y : \" , y)\n",
    "\n",
    "print(\"Mean of y : \",torch.mean(y))"
   ]
  },
  {
   "cell_type": "code",
   "execution_count": null,
   "id": "c3933f92",
   "metadata": {},
   "outputs": [],
   "source": []
  },
  {
   "cell_type": "markdown",
   "id": "cf23108f",
   "metadata": {},
   "source": [
    "### DropOut using F.dropout()"
   ]
  },
  {
   "cell_type": "code",
   "execution_count": null,
   "id": "05d51350",
   "metadata": {},
   "outputs": [],
   "source": []
  },
  {
   "cell_type": "code",
   "execution_count": 8,
   "id": "32a5f67b",
   "metadata": {},
   "outputs": [
    {
     "name": "stdout",
     "output_type": "stream",
     "text": [
      "X :  tensor([1., 1., 1., 1., 1., 1., 1., 1., 1., 1.])\n",
      "y :  tensor([0., 2., 0., 2., 2., 0., 2., 0., 2., 2.])\n",
      "Mean of y :  tensor(1.2000)\n"
     ]
    }
   ],
   "source": [
    "y = F.dropout(x)\n",
    "\n",
    "print(\"X : \",x)\n",
    "print(\"y : \" , y)\n",
    "\n",
    "print(\"Mean of y : \",torch.mean(y))"
   ]
  },
  {
   "cell_type": "code",
   "execution_count": null,
   "id": "84cf7beb",
   "metadata": {},
   "outputs": [],
   "source": []
  },
  {
   "cell_type": "markdown",
   "id": "482dbf4e",
   "metadata": {},
   "source": [
    "#### Turning OFF"
   ]
  },
  {
   "cell_type": "code",
   "execution_count": null,
   "id": "ed8da89d",
   "metadata": {},
   "outputs": [],
   "source": []
  },
  {
   "cell_type": "code",
   "execution_count": 12,
   "id": "00ac8e15",
   "metadata": {},
   "outputs": [
    {
     "name": "stdout",
     "output_type": "stream",
     "text": [
      "X :  tensor([1., 1., 1., 1., 1., 1., 1., 1., 1., 1.])\n",
      "y :  tensor([1., 1., 1., 1., 1., 1., 1., 1., 1., 1.])\n",
      "Mean of y :  tensor(1.)\n"
     ]
    }
   ],
   "source": [
    "y = F.dropout(x , training = False)\n",
    "\n",
    "print(\"X : \",x)\n",
    "print(\"y : \" , y)\n",
    "\n",
    "print(\"Mean of y : \",torch.mean(y))"
   ]
  },
  {
   "cell_type": "code",
   "execution_count": null,
   "id": "f6de24e5",
   "metadata": {},
   "outputs": [],
   "source": []
  },
  {
   "cell_type": "markdown",
   "id": "e4768fb4",
   "metadata": {},
   "source": [
    "### Turn OFF and Turn ON flow"
   ]
  },
  {
   "cell_type": "code",
   "execution_count": null,
   "id": "0499aae0",
   "metadata": {},
   "outputs": [],
   "source": []
  },
  {
   "cell_type": "code",
   "execution_count": 16,
   "id": "29587a77",
   "metadata": {},
   "outputs": [
    {
     "name": "stdout",
     "output_type": "stream",
     "text": [
      "With dropout\n",
      "X :  tensor([1., 1., 1., 1., 1., 1., 1., 1., 1., 1.])\n",
      "y :  tensor([2., 0., 2., 0., 0., 0., 0., 2., 2., 2.]) \n",
      "\n",
      "\n",
      "Without dropout\n",
      "X :  tensor([1., 1., 1., 1., 1., 1., 1., 1., 1., 1.])\n",
      "y :  tensor([1., 1., 1., 1., 1., 1., 1., 1., 1., 1.]) \n",
      "\n",
      "\n",
      "With dropout\n",
      "X :  tensor([1., 1., 1., 1., 1., 1., 1., 1., 1., 1.])\n",
      "y :  tensor([2., 2., 0., 2., 0., 2., 0., 0., 2., 0.]) \n",
      "\n",
      "\n"
     ]
    }
   ],
   "source": [
    "# the model needs to be reset after toggling into eval mode\n",
    "\n",
    "print(\"With dropout\")\n",
    "dropout.train()\n",
    "# with dropout\n",
    "print(\"X : \",x)\n",
    "y = dropout(x)\n",
    "print(\"y : \" , y,\"\\n\\n\")  \n",
    "\n",
    "print(\"Without dropout\")\n",
    "# Turning OFF droput\n",
    "dropout.eval()\n",
    "# Without dropout\n",
    "print(\"X : \",x)\n",
    "y = dropout(x)\n",
    "print(\"y : \" , y,\"\\n\\n\")\n",
    "\n",
    "\n",
    "print(\"With dropout\")\n",
    "# Turning ON dropout\n",
    "dropout.train()\n",
    "print(\"X : \",x)\n",
    "y = dropout(x)\n",
    "print(\"y : \" , y,\"\\n\\n\") "
   ]
  },
  {
   "cell_type": "code",
   "execution_count": null,
   "id": "cd7113e7",
   "metadata": {},
   "outputs": [],
   "source": []
  },
  {
   "cell_type": "code",
   "execution_count": null,
   "id": "f1ce2c7f",
   "metadata": {},
   "outputs": [],
   "source": []
  },
  {
   "cell_type": "code",
   "execution_count": null,
   "id": "a2485f14",
   "metadata": {},
   "outputs": [],
   "source": []
  }
 ],
 "metadata": {
  "kernelspec": {
   "display_name": "Python 3 (ipykernel)",
   "language": "python",
   "name": "python3"
  },
  "language_info": {
   "codemirror_mode": {
    "name": "ipython",
    "version": 3
   },
   "file_extension": ".py",
   "mimetype": "text/x-python",
   "name": "python",
   "nbconvert_exporter": "python",
   "pygments_lexer": "ipython3",
   "version": "3.10.9"
  }
 },
 "nbformat": 4,
 "nbformat_minor": 5
}
