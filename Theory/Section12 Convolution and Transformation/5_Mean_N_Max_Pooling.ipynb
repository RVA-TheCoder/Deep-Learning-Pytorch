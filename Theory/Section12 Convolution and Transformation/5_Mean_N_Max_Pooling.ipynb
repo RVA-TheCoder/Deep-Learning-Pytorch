{
 "cells": [
  {
   "cell_type": "markdown",
   "id": "2796ee7b",
   "metadata": {},
   "source": [
    "## 1. Standard Import"
   ]
  },
  {
   "cell_type": "code",
   "execution_count": 1,
   "id": "e3448753",
   "metadata": {},
   "outputs": [],
   "source": [
    "from IPython import display\n",
    "\n",
    "import matplotlib_inline.backend_inline\n",
    "\n",
    "matplotlib_inline.backend_inline.set_matplotlib_formats('svg')"
   ]
  },
  {
   "cell_type": "code",
   "execution_count": null,
   "id": "27d694be",
   "metadata": {},
   "outputs": [],
   "source": []
  },
  {
   "cell_type": "code",
   "execution_count": 2,
   "id": "be2fbfad",
   "metadata": {},
   "outputs": [],
   "source": [
    "import numpy as np\n",
    "import matplotlib.pyplot as plt"
   ]
  },
  {
   "cell_type": "code",
   "execution_count": 3,
   "id": "2d2ae126",
   "metadata": {},
   "outputs": [],
   "source": [
    "import torch\n",
    "import torch.nn as nn\n",
    "import torch.nn.functional  as F"
   ]
  },
  {
   "cell_type": "code",
   "execution_count": 4,
   "id": "16238d76",
   "metadata": {},
   "outputs": [],
   "source": [
    "import os    \n",
    "os.environ['KMP_DUPLICATE_LIB_OK'] = 'True'"
   ]
  },
  {
   "cell_type": "code",
   "execution_count": null,
   "id": "09a3f9ea",
   "metadata": {},
   "outputs": [],
   "source": []
  },
  {
   "cell_type": "markdown",
   "id": "b898bff1",
   "metadata": {
    "id": "0HOkOefftqyg"
   },
   "source": [
    "## 2. Create a maxpool instance"
   ]
  },
  {
   "cell_type": "code",
   "execution_count": 5,
   "id": "835c2cac",
   "metadata": {
    "id": "VhIKo0_iaGz2"
   },
   "outputs": [
    {
     "name": "stdout",
     "output_type": "stream",
     "text": [
      "MaxPool2d(kernel_size=3, stride=3, padding=0, dilation=1, ceil_mode=False)\n",
      "MaxPool3d(kernel_size=3, stride=3, padding=0, dilation=1, ceil_mode=False)\n"
     ]
    }
   ],
   "source": [
    "# Create a pool class instance with parameters\n",
    "\n",
    "# Parameters\n",
    "poolSize = 3  # Pooling window = spatial extent = kernel size = 3x3\n",
    "Stride   = 3\n",
    "\n",
    "# create the instance\n",
    "p2 = nn.MaxPool2d(kernel_size=poolSize, stride=Stride)\n",
    "p3 = nn.MaxPool3d(poolSize, stride=Stride)\n",
    "\n",
    "# let's have a look at them\n",
    "print(p2)\n",
    "print(p3)"
   ]
  },
  {
   "cell_type": "code",
   "execution_count": null,
   "id": "a36df4db",
   "metadata": {},
   "outputs": [],
   "source": []
  },
  {
   "cell_type": "markdown",
   "id": "e61acd50",
   "metadata": {},
   "source": [
    "## 3. Create image and apply Maxpooling"
   ]
  },
  {
   "cell_type": "code",
   "execution_count": 6,
   "id": "21545a1d",
   "metadata": {
    "id": "G669cetLBMFO"
   },
   "outputs": [
    {
     "name": "stdout",
     "output_type": "stream",
     "text": [
      "2D image, 2D maxpool: torch.Size([1, 1, 10, 10])\n",
      "\n",
      "3D image, 2D maxpool: torch.Size([1, 3, 10, 10])\n",
      "\n",
      "3D image, 3D maxpool: torch.Size([1, 1, 10, 10])\n",
      "\n"
     ]
    }
   ],
   "source": [
    "# create a 2D and a 3D image\n",
    "img2 = torch.randn(1,1,30,30)  # number of channels = 1 : grey scale image\n",
    "img3 = torch.randn(1,3,30,30)  # number of channels = 3 : RGB (colour image)\n",
    "\n",
    "\n",
    "# All combinations of image and maxpool dimensionality\n",
    "# 2D pooling : single channel pooling window\n",
    "img2Pool2 = p2(img2)\n",
    "print(f'2D image, 2D maxpool: {img2Pool2.shape}\\n' )\n",
    "\n",
    "# This is invalid because we are 3D pooling(3 channel) on a 2D image\n",
    "# img2Pool3 = p3(img2)\n",
    "# print(f'2D image, 3D maxpool: {img2Pool3.shape}\\n' )\n",
    "\n",
    "img3Pool2 = p2(img3)\n",
    "print(f'3D image, 2D maxpool: {img3Pool2.shape}\\n' )\n",
    "\n",
    "img3Pool3 = p3(img3)\n",
    "print(f'3D image, 3D maxpool: {img3Pool3.shape}\\n' )"
   ]
  },
  {
   "cell_type": "code",
   "execution_count": null,
   "id": "cf35cb69",
   "metadata": {},
   "outputs": [],
   "source": []
  },
  {
   "cell_type": "markdown",
   "id": "afaf484f",
   "metadata": {
    "id": "VAqVrcrGd98S"
   },
   "source": [
    "## 4. Create a simple CNN"
   ]
  },
  {
   "cell_type": "code",
   "execution_count": 7,
   "id": "54ffb911",
   "metadata": {
    "id": "Bub-D2xxAiR3"
   },
   "outputs": [],
   "source": [
    "littlenet = nn.Sequential(\n",
    "    \n",
    "            ## the conv-pool block\n",
    "            # convolution layer\n",
    "            nn.Conv2d(in_channels=3,\n",
    "                      out_channels=10,\n",
    "                      kernel_size=5,\n",
    "                      stride=3,\n",
    "                      padding=2), \n",
    "            nn.ReLU(),             # activation function\n",
    "            nn.AvgPool3d(kernel_size=3,stride=3),     # average-pool \n",
    "\n",
    "            ## the FFN block\n",
    "            nn.Flatten(),          # vectorize to get from image to linear\n",
    "            nn.Linear(588,1),      # FC linear layer\n",
    "            nn.Sigmoid()           # output activation\n",
    "                         )\n"
   ]
  },
  {
   "cell_type": "code",
   "execution_count": 8,
   "id": "9010d421",
   "metadata": {},
   "outputs": [
    {
     "data": {
      "text/plain": [
       "Sequential(\n",
       "  (0): Conv2d(3, 10, kernel_size=(5, 5), stride=(3, 3), padding=(2, 2))\n",
       "  (1): ReLU()\n",
       "  (2): AvgPool3d(kernel_size=3, stride=3, padding=0)\n",
       "  (3): Flatten(start_dim=1, end_dim=-1)\n",
       "  (4): Linear(in_features=588, out_features=1, bias=True)\n",
       "  (5): Sigmoid()\n",
       ")"
      ]
     },
     "execution_count": 8,
     "metadata": {},
     "output_type": "execute_result"
    }
   ],
   "source": [
    "littlenet"
   ]
  },
  {
   "cell_type": "code",
   "execution_count": 9,
   "id": "b498daf8",
   "metadata": {
    "id": "9SnUUHPm7xQE"
   },
   "outputs": [
    {
     "data": {
      "text/plain": [
       "tensor([[0.4758]], grad_fn=<SigmoidBackward0>)"
      ]
     },
     "execution_count": 9,
     "metadata": {},
     "output_type": "execute_result"
    }
   ],
   "source": [
    "# test with a bit of data\n",
    "img = torch.rand(1,3,128,128)\n",
    "littlenet(img)"
   ]
  },
  {
   "cell_type": "code",
   "execution_count": null,
   "id": "c7b3376f",
   "metadata": {},
   "outputs": [],
   "source": []
  },
  {
   "cell_type": "code",
   "execution_count": null,
   "id": "45a99ab7",
   "metadata": {},
   "outputs": [],
   "source": []
  }
 ],
 "metadata": {
  "kernelspec": {
   "display_name": "Python 3 (ipykernel)",
   "language": "python",
   "name": "python3"
  },
  "language_info": {
   "codemirror_mode": {
    "name": "ipython",
    "version": 3
   },
   "file_extension": ".py",
   "mimetype": "text/x-python",
   "name": "python",
   "nbconvert_exporter": "python",
   "pygments_lexer": "ipython3",
   "version": "3.10.9"
  }
 },
 "nbformat": 4,
 "nbformat_minor": 5
}
