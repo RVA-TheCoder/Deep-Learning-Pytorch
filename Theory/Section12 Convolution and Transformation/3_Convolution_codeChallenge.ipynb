{
 "cells": [
  {
   "cell_type": "markdown",
   "id": "2796ee7b",
   "metadata": {},
   "source": [
    "## 1. Standard Import"
   ]
  },
  {
   "cell_type": "code",
   "execution_count": 1,
   "id": "e3448753",
   "metadata": {},
   "outputs": [],
   "source": [
    "from IPython import display\n",
    "\n",
    "import matplotlib_inline.backend_inline\n",
    "\n",
    "matplotlib_inline.backend_inline.set_matplotlib_formats('svg')"
   ]
  },
  {
   "cell_type": "code",
   "execution_count": null,
   "id": "27d694be",
   "metadata": {},
   "outputs": [],
   "source": []
  },
  {
   "cell_type": "code",
   "execution_count": 2,
   "id": "be2fbfad",
   "metadata": {},
   "outputs": [],
   "source": [
    "import numpy as np\n",
    "import matplotlib.pyplot as plt"
   ]
  },
  {
   "cell_type": "code",
   "execution_count": 3,
   "id": "2d2ae126",
   "metadata": {},
   "outputs": [],
   "source": [
    "import torch\n",
    "import torch.nn as nn\n",
    "import torch.nn.functional  as F"
   ]
  },
  {
   "cell_type": "code",
   "execution_count": null,
   "id": "16238d76",
   "metadata": {},
   "outputs": [],
   "source": []
  },
  {
   "cell_type": "markdown",
   "id": "1ea73f69",
   "metadata": {
    "id": "0HOkOefftqyg"
   },
   "source": [
    "## Sample problem"
   ]
  },
  {
   "cell_type": "markdown",
   "id": "89114faf",
   "metadata": {
    "id": "EiLI77Lh9yms"
   },
   "source": [
    "### Convolve an image of size 1x256x256 to produce a 1x252x84 result"
   ]
  },
  {
   "cell_type": "code",
   "execution_count": 6,
   "id": "9204acb2",
   "metadata": {
    "colab": {
     "base_uri": "https://localhost:8080/"
    },
    "executionInfo": {
     "elapsed": 6,
     "status": "ok",
     "timestamp": 1625124892032,
     "user": {
      "displayName": "Mike X Cohen",
      "photoUrl": "https://lh3.googleusercontent.com/a-/AOh14GhjXSur8ulydyiQQEh2U6pYGIhDN22fqYYNNDg49A=s64",
      "userId": "13901636194183843661"
     },
     "user_tz": -120
    },
    "id": "VhIKo0_iaGz2",
    "outputId": "39ac054e-2456-47e3-87cf-6381014e3808",
    "scrolled": true
   },
   "outputs": [
    {
     "name": "stdout",
     "output_type": "stream",
     "text": [
      "Obtained size: [252, 84]\n",
      "Expected size: [  1 252  84]\n"
     ]
    }
   ],
   "source": [
    "# Parameters\n",
    "inChans  = 1         # RGB channel (1 indicating grey-scale channel)\n",
    "imsize   = [256,256] # (heightxwidth)\n",
    "outChans = 1\n",
    "krnSize  = 5         # should be an odd number\n",
    "stride   = (1,3)     # (1 : controls the heigth  and 3 :controls the  width)\n",
    "padding  = 0\n",
    "\n",
    "# create the instance\n",
    "c = nn.Conv2d(inChans,outChans,krnSize,stride,padding)\n",
    "\n",
    "# create an image\n",
    "img = torch.rand(1,inChans,imsize[0],imsize[1])\n",
    "\n",
    "# run convolution and compute its shape\n",
    "resimg = c(img)\n",
    "empSize = torch.squeeze(resimg).shape\n",
    "\n",
    "# compute the size of the result according to the formula\n",
    "expectSize = np.array([outChans,0,0],dtype=int)\n",
    "expectSize[1] = np.floor( (imsize[0]+2*padding-krnSize)/stride[0] ) + 1\n",
    "expectSize[2] = np.floor( (imsize[1]+2*padding-krnSize)/stride[1] ) + 1\n",
    "\n",
    "# check the size of the output\n",
    "print(f'Obtained size: {list(empSize)}')\n",
    "print(f'Expected size: {expectSize}')"
   ]
  },
  {
   "cell_type": "code",
   "execution_count": null,
   "id": "e725ba6b",
   "metadata": {},
   "outputs": [],
   "source": []
  },
  {
   "cell_type": "markdown",
   "id": "e9f7699c",
   "metadata": {
    "id": "sCWyuNySDagy"
   },
   "source": [
    "## Real problems"
   ]
  },
  {
   "cell_type": "markdown",
   "id": "b07266af",
   "metadata": {
    "id": "2jfWAkiWDWU7"
   },
   "source": [
    "#### Convolve an image of size 3x196x96 to produce a 5x66x49 result"
   ]
  },
  {
   "cell_type": "code",
   "execution_count": 15,
   "id": "4422aa21",
   "metadata": {
    "id": "XieXWJ9gDWU7"
   },
   "outputs": [
    {
     "name": "stdout",
     "output_type": "stream",
     "text": [
      "obtained size: [5, 66, 49]\n",
      "Expected size: [ 5 66 49]\n"
     ]
    }
   ],
   "source": [
    "# Parameters\n",
    "# empirical formula for stride  : \n",
    "# (num of pixel along dimension//output pixel along dimension ) +1 \n",
    "\n",
    "inChans  = 3\n",
    "imsize   = [196,96]  # height x width\n",
    "outChans = 5\n",
    "krnSize  = 7\n",
    "stride   = (3,2)  # 3 : controls height and 2 : controls width\n",
    "padding  = 4\n",
    "\n",
    "# create the instance\n",
    "c = nn.Conv2d(inChans,outChans,krnSize,stride,padding)\n",
    "\n",
    "# create an image\n",
    "img = torch.rand(1,inChans,imsize[0],imsize[1])\n",
    "\n",
    "# run convolution and compute its shape\n",
    "resimg2 = c(img)\n",
    "empSize2 = torch.squeeze(resimg2).shape\n",
    "\n",
    "# compute the size of the result according to the formula\n",
    "expectSize2 = np.array([outChans,0,0],dtype=int)\n",
    "expectSize2[1] = np.floor( (imsize[0]+2*padding-krnSize)/stride[0] ) + 1\n",
    "expectSize2[2] = np.floor( (imsize[1]+2*padding-krnSize)/stride[1] ) + 1\n",
    "\n",
    "# check the size of the output\n",
    "print(f'obtained size: {list(empSize2)}')\n",
    "print(f'Expected size: {expectSize2}')\n"
   ]
  },
  {
   "cell_type": "code",
   "execution_count": null,
   "id": "e44f4e11",
   "metadata": {},
   "outputs": [],
   "source": []
  },
  {
   "cell_type": "code",
   "execution_count": null,
   "id": "3752d587",
   "metadata": {},
   "outputs": [],
   "source": []
  },
  {
   "cell_type": "code",
   "execution_count": null,
   "id": "1449a4b6",
   "metadata": {},
   "outputs": [],
   "source": []
  },
  {
   "cell_type": "code",
   "execution_count": null,
   "id": "e3f7458f",
   "metadata": {},
   "outputs": [],
   "source": []
  },
  {
   "cell_type": "code",
   "execution_count": null,
   "id": "05d28aa7",
   "metadata": {},
   "outputs": [],
   "source": []
  },
  {
   "cell_type": "code",
   "execution_count": null,
   "id": "e66ff523",
   "metadata": {},
   "outputs": [],
   "source": []
  },
  {
   "cell_type": "code",
   "execution_count": null,
   "id": "0074d002",
   "metadata": {},
   "outputs": [],
   "source": []
  },
  {
   "cell_type": "code",
   "execution_count": null,
   "id": "e2f55391",
   "metadata": {},
   "outputs": [],
   "source": []
  },
  {
   "cell_type": "code",
   "execution_count": null,
   "id": "60c721fb",
   "metadata": {},
   "outputs": [],
   "source": []
  },
  {
   "cell_type": "code",
   "execution_count": null,
   "id": "dd8aeea1",
   "metadata": {},
   "outputs": [],
   "source": []
  },
  {
   "cell_type": "code",
   "execution_count": null,
   "id": "e6688391",
   "metadata": {},
   "outputs": [],
   "source": []
  },
  {
   "cell_type": "code",
   "execution_count": null,
   "id": "e70ceb4e",
   "metadata": {},
   "outputs": [],
   "source": []
  },
  {
   "cell_type": "code",
   "execution_count": null,
   "id": "f080b9c4",
   "metadata": {},
   "outputs": [],
   "source": []
  }
 ],
 "metadata": {
  "kernelspec": {
   "display_name": "Python 3 (ipykernel)",
   "language": "python",
   "name": "python3"
  },
  "language_info": {
   "codemirror_mode": {
    "name": "ipython",
    "version": 3
   },
   "file_extension": ".py",
   "mimetype": "text/x-python",
   "name": "python",
   "nbconvert_exporter": "python",
   "pygments_lexer": "ipython3",
   "version": "3.10.9"
  }
 },
 "nbformat": 4,
 "nbformat_minor": 5
}
